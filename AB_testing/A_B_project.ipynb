{
  "nbformat": 4,
  "nbformat_minor": 0,
  "metadata": {
    "colab": {
      "provenance": []
    },
    "kernelspec": {
      "name": "python3",
      "display_name": "Python 3"
    },
    "language_info": {
      "name": "python"
    }
  },
  "cells": [
    {
      "cell_type": "markdown",
      "source": [
        "# 1.Введение\n",
        "\n",
        "В этом проекте мы будем анализировать данные A/B теста для изучения влияния фона веб-сайта на конверсию пользователей.\n",
        "\n",
        "Цель: определить, влияет ли изменение цвета фона с белого на черный на поведение пользователей (конверсия, время на сайте, количество просмотренных страниц) и провести статистический анализ.\n",
        "\n"
      ],
      "metadata": {
        "id": "5OaPjL5xdAtZ"
      }
    },
    {
      "cell_type": "markdown",
      "source": [
        "# 2. Загрузка и подготовка данных\n",
        "\n"
      ],
      "metadata": {
        "id": "GKz995BydJNB"
      }
    },
    {
      "cell_type": "code",
      "source": [
        "# Импортируем библиотеки\n",
        "import pandas as pd\n",
        "import numpy as np\n",
        "import matplotlib.pyplot as plt\n",
        "import seaborn as sns\n",
        "from scipy.stats import ttest_ind, chi2_contingency\n",
        "\n",
        "import warnings\n",
        "warnings.simplefilter(action='ignore', category=FutureWarning)"
      ],
      "metadata": {
        "id": "6Fx6Ba2AdQYu"
      },
      "execution_count": 89,
      "outputs": []
    },
    {
      "cell_type": "code",
      "execution_count": 90,
      "metadata": {
        "colab": {
          "base_uri": "https://localhost:8080/",
          "height": 206
        },
        "id": "F2bMHkhXFgrx",
        "outputId": "f05622dd-74cc-44b9-9c36-704fd33bebcc"
      },
      "outputs": [
        {
          "output_type": "execute_result",
          "data": {
            "text/plain": [
              "   User ID Group  Page Views  Time Spent Conversion   Device          Location\n",
              "0    14292     B           3         424         No   Mobile  Northern Ireland\n",
              "1    11682     A           9         342         No   Mobile          Scotland\n",
              "2    19825     A           2         396         No  Desktop  Northern Ireland\n",
              "3    16080     B           4         318         No  Desktop             Wales\n",
              "4    18851     A           1         338        Yes  Desktop          Scotland"
            ],
            "text/html": [
              "\n",
              "  <div id=\"df-72ac1818-579b-4a50-b00c-6f991283fe75\" class=\"colab-df-container\">\n",
              "    <div>\n",
              "<style scoped>\n",
              "    .dataframe tbody tr th:only-of-type {\n",
              "        vertical-align: middle;\n",
              "    }\n",
              "\n",
              "    .dataframe tbody tr th {\n",
              "        vertical-align: top;\n",
              "    }\n",
              "\n",
              "    .dataframe thead th {\n",
              "        text-align: right;\n",
              "    }\n",
              "</style>\n",
              "<table border=\"1\" class=\"dataframe\">\n",
              "  <thead>\n",
              "    <tr style=\"text-align: right;\">\n",
              "      <th></th>\n",
              "      <th>User ID</th>\n",
              "      <th>Group</th>\n",
              "      <th>Page Views</th>\n",
              "      <th>Time Spent</th>\n",
              "      <th>Conversion</th>\n",
              "      <th>Device</th>\n",
              "      <th>Location</th>\n",
              "    </tr>\n",
              "  </thead>\n",
              "  <tbody>\n",
              "    <tr>\n",
              "      <th>0</th>\n",
              "      <td>14292</td>\n",
              "      <td>B</td>\n",
              "      <td>3</td>\n",
              "      <td>424</td>\n",
              "      <td>No</td>\n",
              "      <td>Mobile</td>\n",
              "      <td>Northern Ireland</td>\n",
              "    </tr>\n",
              "    <tr>\n",
              "      <th>1</th>\n",
              "      <td>11682</td>\n",
              "      <td>A</td>\n",
              "      <td>9</td>\n",
              "      <td>342</td>\n",
              "      <td>No</td>\n",
              "      <td>Mobile</td>\n",
              "      <td>Scotland</td>\n",
              "    </tr>\n",
              "    <tr>\n",
              "      <th>2</th>\n",
              "      <td>19825</td>\n",
              "      <td>A</td>\n",
              "      <td>2</td>\n",
              "      <td>396</td>\n",
              "      <td>No</td>\n",
              "      <td>Desktop</td>\n",
              "      <td>Northern Ireland</td>\n",
              "    </tr>\n",
              "    <tr>\n",
              "      <th>3</th>\n",
              "      <td>16080</td>\n",
              "      <td>B</td>\n",
              "      <td>4</td>\n",
              "      <td>318</td>\n",
              "      <td>No</td>\n",
              "      <td>Desktop</td>\n",
              "      <td>Wales</td>\n",
              "    </tr>\n",
              "    <tr>\n",
              "      <th>4</th>\n",
              "      <td>18851</td>\n",
              "      <td>A</td>\n",
              "      <td>1</td>\n",
              "      <td>338</td>\n",
              "      <td>Yes</td>\n",
              "      <td>Desktop</td>\n",
              "      <td>Scotland</td>\n",
              "    </tr>\n",
              "  </tbody>\n",
              "</table>\n",
              "</div>\n",
              "    <div class=\"colab-df-buttons\">\n",
              "\n",
              "  <div class=\"colab-df-container\">\n",
              "    <button class=\"colab-df-convert\" onclick=\"convertToInteractive('df-72ac1818-579b-4a50-b00c-6f991283fe75')\"\n",
              "            title=\"Convert this dataframe to an interactive table.\"\n",
              "            style=\"display:none;\">\n",
              "\n",
              "  <svg xmlns=\"http://www.w3.org/2000/svg\" height=\"24px\" viewBox=\"0 -960 960 960\">\n",
              "    <path d=\"M120-120v-720h720v720H120Zm60-500h600v-160H180v160Zm220 220h160v-160H400v160Zm0 220h160v-160H400v160ZM180-400h160v-160H180v160Zm440 0h160v-160H620v160ZM180-180h160v-160H180v160Zm440 0h160v-160H620v160Z\"/>\n",
              "  </svg>\n",
              "    </button>\n",
              "\n",
              "  <style>\n",
              "    .colab-df-container {\n",
              "      display:flex;\n",
              "      gap: 12px;\n",
              "    }\n",
              "\n",
              "    .colab-df-convert {\n",
              "      background-color: #E8F0FE;\n",
              "      border: none;\n",
              "      border-radius: 50%;\n",
              "      cursor: pointer;\n",
              "      display: none;\n",
              "      fill: #1967D2;\n",
              "      height: 32px;\n",
              "      padding: 0 0 0 0;\n",
              "      width: 32px;\n",
              "    }\n",
              "\n",
              "    .colab-df-convert:hover {\n",
              "      background-color: #E2EBFA;\n",
              "      box-shadow: 0px 1px 2px rgba(60, 64, 67, 0.3), 0px 1px 3px 1px rgba(60, 64, 67, 0.15);\n",
              "      fill: #174EA6;\n",
              "    }\n",
              "\n",
              "    .colab-df-buttons div {\n",
              "      margin-bottom: 4px;\n",
              "    }\n",
              "\n",
              "    [theme=dark] .colab-df-convert {\n",
              "      background-color: #3B4455;\n",
              "      fill: #D2E3FC;\n",
              "    }\n",
              "\n",
              "    [theme=dark] .colab-df-convert:hover {\n",
              "      background-color: #434B5C;\n",
              "      box-shadow: 0px 1px 3px 1px rgba(0, 0, 0, 0.15);\n",
              "      filter: drop-shadow(0px 1px 2px rgba(0, 0, 0, 0.3));\n",
              "      fill: #FFFFFF;\n",
              "    }\n",
              "  </style>\n",
              "\n",
              "    <script>\n",
              "      const buttonEl =\n",
              "        document.querySelector('#df-72ac1818-579b-4a50-b00c-6f991283fe75 button.colab-df-convert');\n",
              "      buttonEl.style.display =\n",
              "        google.colab.kernel.accessAllowed ? 'block' : 'none';\n",
              "\n",
              "      async function convertToInteractive(key) {\n",
              "        const element = document.querySelector('#df-72ac1818-579b-4a50-b00c-6f991283fe75');\n",
              "        const dataTable =\n",
              "          await google.colab.kernel.invokeFunction('convertToInteractive',\n",
              "                                                    [key], {});\n",
              "        if (!dataTable) return;\n",
              "\n",
              "        const docLinkHtml = 'Like what you see? Visit the ' +\n",
              "          '<a target=\"_blank\" href=https://colab.research.google.com/notebooks/data_table.ipynb>data table notebook</a>'\n",
              "          + ' to learn more about interactive tables.';\n",
              "        element.innerHTML = '';\n",
              "        dataTable['output_type'] = 'display_data';\n",
              "        await google.colab.output.renderOutput(dataTable, element);\n",
              "        const docLink = document.createElement('div');\n",
              "        docLink.innerHTML = docLinkHtml;\n",
              "        element.appendChild(docLink);\n",
              "      }\n",
              "    </script>\n",
              "  </div>\n",
              "\n",
              "\n",
              "<div id=\"df-6116d2e1-48fa-44da-a615-508f058df8bb\">\n",
              "  <button class=\"colab-df-quickchart\" onclick=\"quickchart('df-6116d2e1-48fa-44da-a615-508f058df8bb')\"\n",
              "            title=\"Suggest charts\"\n",
              "            style=\"display:none;\">\n",
              "\n",
              "<svg xmlns=\"http://www.w3.org/2000/svg\" height=\"24px\"viewBox=\"0 0 24 24\"\n",
              "     width=\"24px\">\n",
              "    <g>\n",
              "        <path d=\"M19 3H5c-1.1 0-2 .9-2 2v14c0 1.1.9 2 2 2h14c1.1 0 2-.9 2-2V5c0-1.1-.9-2-2-2zM9 17H7v-7h2v7zm4 0h-2V7h2v10zm4 0h-2v-4h2v4z\"/>\n",
              "    </g>\n",
              "</svg>\n",
              "  </button>\n",
              "\n",
              "<style>\n",
              "  .colab-df-quickchart {\n",
              "      --bg-color: #E8F0FE;\n",
              "      --fill-color: #1967D2;\n",
              "      --hover-bg-color: #E2EBFA;\n",
              "      --hover-fill-color: #174EA6;\n",
              "      --disabled-fill-color: #AAA;\n",
              "      --disabled-bg-color: #DDD;\n",
              "  }\n",
              "\n",
              "  [theme=dark] .colab-df-quickchart {\n",
              "      --bg-color: #3B4455;\n",
              "      --fill-color: #D2E3FC;\n",
              "      --hover-bg-color: #434B5C;\n",
              "      --hover-fill-color: #FFFFFF;\n",
              "      --disabled-bg-color: #3B4455;\n",
              "      --disabled-fill-color: #666;\n",
              "  }\n",
              "\n",
              "  .colab-df-quickchart {\n",
              "    background-color: var(--bg-color);\n",
              "    border: none;\n",
              "    border-radius: 50%;\n",
              "    cursor: pointer;\n",
              "    display: none;\n",
              "    fill: var(--fill-color);\n",
              "    height: 32px;\n",
              "    padding: 0;\n",
              "    width: 32px;\n",
              "  }\n",
              "\n",
              "  .colab-df-quickchart:hover {\n",
              "    background-color: var(--hover-bg-color);\n",
              "    box-shadow: 0 1px 2px rgba(60, 64, 67, 0.3), 0 1px 3px 1px rgba(60, 64, 67, 0.15);\n",
              "    fill: var(--button-hover-fill-color);\n",
              "  }\n",
              "\n",
              "  .colab-df-quickchart-complete:disabled,\n",
              "  .colab-df-quickchart-complete:disabled:hover {\n",
              "    background-color: var(--disabled-bg-color);\n",
              "    fill: var(--disabled-fill-color);\n",
              "    box-shadow: none;\n",
              "  }\n",
              "\n",
              "  .colab-df-spinner {\n",
              "    border: 2px solid var(--fill-color);\n",
              "    border-color: transparent;\n",
              "    border-bottom-color: var(--fill-color);\n",
              "    animation:\n",
              "      spin 1s steps(1) infinite;\n",
              "  }\n",
              "\n",
              "  @keyframes spin {\n",
              "    0% {\n",
              "      border-color: transparent;\n",
              "      border-bottom-color: var(--fill-color);\n",
              "      border-left-color: var(--fill-color);\n",
              "    }\n",
              "    20% {\n",
              "      border-color: transparent;\n",
              "      border-left-color: var(--fill-color);\n",
              "      border-top-color: var(--fill-color);\n",
              "    }\n",
              "    30% {\n",
              "      border-color: transparent;\n",
              "      border-left-color: var(--fill-color);\n",
              "      border-top-color: var(--fill-color);\n",
              "      border-right-color: var(--fill-color);\n",
              "    }\n",
              "    40% {\n",
              "      border-color: transparent;\n",
              "      border-right-color: var(--fill-color);\n",
              "      border-top-color: var(--fill-color);\n",
              "    }\n",
              "    60% {\n",
              "      border-color: transparent;\n",
              "      border-right-color: var(--fill-color);\n",
              "    }\n",
              "    80% {\n",
              "      border-color: transparent;\n",
              "      border-right-color: var(--fill-color);\n",
              "      border-bottom-color: var(--fill-color);\n",
              "    }\n",
              "    90% {\n",
              "      border-color: transparent;\n",
              "      border-bottom-color: var(--fill-color);\n",
              "    }\n",
              "  }\n",
              "</style>\n",
              "\n",
              "  <script>\n",
              "    async function quickchart(key) {\n",
              "      const quickchartButtonEl =\n",
              "        document.querySelector('#' + key + ' button');\n",
              "      quickchartButtonEl.disabled = true;  // To prevent multiple clicks.\n",
              "      quickchartButtonEl.classList.add('colab-df-spinner');\n",
              "      try {\n",
              "        const charts = await google.colab.kernel.invokeFunction(\n",
              "            'suggestCharts', [key], {});\n",
              "      } catch (error) {\n",
              "        console.error('Error during call to suggestCharts:', error);\n",
              "      }\n",
              "      quickchartButtonEl.classList.remove('colab-df-spinner');\n",
              "      quickchartButtonEl.classList.add('colab-df-quickchart-complete');\n",
              "    }\n",
              "    (() => {\n",
              "      let quickchartButtonEl =\n",
              "        document.querySelector('#df-6116d2e1-48fa-44da-a615-508f058df8bb button');\n",
              "      quickchartButtonEl.style.display =\n",
              "        google.colab.kernel.accessAllowed ? 'block' : 'none';\n",
              "    })();\n",
              "  </script>\n",
              "</div>\n",
              "    </div>\n",
              "  </div>\n"
            ],
            "application/vnd.google.colaboratory.intrinsic+json": {
              "type": "dataframe",
              "variable_name": "df",
              "summary": "{\n  \"name\": \"df\",\n  \"rows\": 5000,\n  \"fields\": [\n    {\n      \"column\": \"User ID\",\n      \"properties\": {\n        \"dtype\": \"number\",\n        \"std\": 2869,\n        \"min\": 10001,\n        \"max\": 19995,\n        \"num_unique_values\": 5000,\n        \"samples\": [\n          13051,\n          11436,\n          10644\n        ],\n        \"semantic_type\": \"\",\n        \"description\": \"\"\n      }\n    },\n    {\n      \"column\": \"Group\",\n      \"properties\": {\n        \"dtype\": \"category\",\n        \"num_unique_values\": 2,\n        \"samples\": [\n          \"A\",\n          \"B\"\n        ],\n        \"semantic_type\": \"\",\n        \"description\": \"\"\n      }\n    },\n    {\n      \"column\": \"Page Views\",\n      \"properties\": {\n        \"dtype\": \"number\",\n        \"std\": 4,\n        \"min\": 1,\n        \"max\": 14,\n        \"num_unique_values\": 14,\n        \"samples\": [\n          6,\n          11\n        ],\n        \"semantic_type\": \"\",\n        \"description\": \"\"\n      }\n    },\n    {\n      \"column\": \"Time Spent\",\n      \"properties\": {\n        \"dtype\": \"number\",\n        \"std\": 118,\n        \"min\": 40,\n        \"max\": 449,\n        \"num_unique_values\": 410,\n        \"samples\": [\n          330,\n          173\n        ],\n        \"semantic_type\": \"\",\n        \"description\": \"\"\n      }\n    },\n    {\n      \"column\": \"Conversion\",\n      \"properties\": {\n        \"dtype\": \"category\",\n        \"num_unique_values\": 2,\n        \"samples\": [\n          \"Yes\",\n          \"No\"\n        ],\n        \"semantic_type\": \"\",\n        \"description\": \"\"\n      }\n    },\n    {\n      \"column\": \"Device\",\n      \"properties\": {\n        \"dtype\": \"category\",\n        \"num_unique_values\": 2,\n        \"samples\": [\n          \"Desktop\",\n          \"Mobile\"\n        ],\n        \"semantic_type\": \"\",\n        \"description\": \"\"\n      }\n    },\n    {\n      \"column\": \"Location\",\n      \"properties\": {\n        \"dtype\": \"category\",\n        \"num_unique_values\": 4,\n        \"samples\": [\n          \"Scotland\",\n          \"England\"\n        ],\n        \"semantic_type\": \"\",\n        \"description\": \"\"\n      }\n    }\n  ]\n}"
            }
          },
          "metadata": {},
          "execution_count": 90
        }
      ],
      "source": [
        "# Загружаем данные\n",
        "df = pd.read_csv('ab_testing.csv')\n",
        "df.head()"
      ]
    },
    {
      "cell_type": "code",
      "source": [
        "# Посмотрим на общую информацию о данных\n",
        "df.info()"
      ],
      "metadata": {
        "colab": {
          "base_uri": "https://localhost:8080/"
        },
        "id": "DHp2YP8KIw73",
        "outputId": "7fadc426-217e-4071-f05f-1acf8b6aeacb"
      },
      "execution_count": 91,
      "outputs": [
        {
          "output_type": "stream",
          "name": "stdout",
          "text": [
            "<class 'pandas.core.frame.DataFrame'>\n",
            "RangeIndex: 5000 entries, 0 to 4999\n",
            "Data columns (total 7 columns):\n",
            " #   Column      Non-Null Count  Dtype \n",
            "---  ------      --------------  ----- \n",
            " 0   User ID     5000 non-null   int64 \n",
            " 1   Group       5000 non-null   object\n",
            " 2   Page Views  5000 non-null   int64 \n",
            " 3   Time Spent  5000 non-null   int64 \n",
            " 4   Conversion  5000 non-null   object\n",
            " 5   Device      5000 non-null   object\n",
            " 6   Location    5000 non-null   object\n",
            "dtypes: int64(3), object(4)\n",
            "memory usage: 273.6+ KB\n"
          ]
        }
      ]
    },
    {
      "cell_type": "code",
      "source": [
        "# Проверим пропущенные значения\n",
        "df.isnull().sum()"
      ],
      "metadata": {
        "colab": {
          "base_uri": "https://localhost:8080/",
          "height": 303
        },
        "id": "7YOc51QUIz8A",
        "outputId": "98fcf75c-9060-46a1-a230-ea364646dfbe"
      },
      "execution_count": 92,
      "outputs": [
        {
          "output_type": "execute_result",
          "data": {
            "text/plain": [
              "User ID       0\n",
              "Group         0\n",
              "Page Views    0\n",
              "Time Spent    0\n",
              "Conversion    0\n",
              "Device        0\n",
              "Location      0\n",
              "dtype: int64"
            ],
            "text/html": [
              "<div>\n",
              "<style scoped>\n",
              "    .dataframe tbody tr th:only-of-type {\n",
              "        vertical-align: middle;\n",
              "    }\n",
              "\n",
              "    .dataframe tbody tr th {\n",
              "        vertical-align: top;\n",
              "    }\n",
              "\n",
              "    .dataframe thead th {\n",
              "        text-align: right;\n",
              "    }\n",
              "</style>\n",
              "<table border=\"1\" class=\"dataframe\">\n",
              "  <thead>\n",
              "    <tr style=\"text-align: right;\">\n",
              "      <th></th>\n",
              "      <th>0</th>\n",
              "    </tr>\n",
              "  </thead>\n",
              "  <tbody>\n",
              "    <tr>\n",
              "      <th>User ID</th>\n",
              "      <td>0</td>\n",
              "    </tr>\n",
              "    <tr>\n",
              "      <th>Group</th>\n",
              "      <td>0</td>\n",
              "    </tr>\n",
              "    <tr>\n",
              "      <th>Page Views</th>\n",
              "      <td>0</td>\n",
              "    </tr>\n",
              "    <tr>\n",
              "      <th>Time Spent</th>\n",
              "      <td>0</td>\n",
              "    </tr>\n",
              "    <tr>\n",
              "      <th>Conversion</th>\n",
              "      <td>0</td>\n",
              "    </tr>\n",
              "    <tr>\n",
              "      <th>Device</th>\n",
              "      <td>0</td>\n",
              "    </tr>\n",
              "    <tr>\n",
              "      <th>Location</th>\n",
              "      <td>0</td>\n",
              "    </tr>\n",
              "  </tbody>\n",
              "</table>\n",
              "</div><br><label><b>dtype:</b> int64</label>"
            ]
          },
          "metadata": {},
          "execution_count": 92
        }
      ]
    },
    {
      "cell_type": "code",
      "source": [
        "# Описательная статистика числовых столбцов\n",
        "df.describe()"
      ],
      "metadata": {
        "colab": {
          "base_uri": "https://localhost:8080/",
          "height": 300
        },
        "id": "ToFcYtwlI2hQ",
        "outputId": "f49ec5c2-81c1-40fe-9d25-f147579d59cb"
      },
      "execution_count": 94,
      "outputs": [
        {
          "output_type": "execute_result",
          "data": {
            "text/plain": [
              "            User ID   Page Views   Time Spent\n",
              "count   5000.000000  5000.000000  5000.000000\n",
              "mean   14925.159000     7.537600   242.512600\n",
              "std     2869.153773     4.022465   118.254153\n",
              "min    10001.000000     1.000000    40.000000\n",
              "25%    12456.250000     4.000000   137.000000\n",
              "50%    14858.500000     8.000000   243.000000\n",
              "75%    17379.750000    11.000000   346.000000\n",
              "max    19995.000000    14.000000   449.000000"
            ],
            "text/html": [
              "\n",
              "  <div id=\"df-9adee768-cd38-4c4b-a6f9-c18c125ce941\" class=\"colab-df-container\">\n",
              "    <div>\n",
              "<style scoped>\n",
              "    .dataframe tbody tr th:only-of-type {\n",
              "        vertical-align: middle;\n",
              "    }\n",
              "\n",
              "    .dataframe tbody tr th {\n",
              "        vertical-align: top;\n",
              "    }\n",
              "\n",
              "    .dataframe thead th {\n",
              "        text-align: right;\n",
              "    }\n",
              "</style>\n",
              "<table border=\"1\" class=\"dataframe\">\n",
              "  <thead>\n",
              "    <tr style=\"text-align: right;\">\n",
              "      <th></th>\n",
              "      <th>User ID</th>\n",
              "      <th>Page Views</th>\n",
              "      <th>Time Spent</th>\n",
              "    </tr>\n",
              "  </thead>\n",
              "  <tbody>\n",
              "    <tr>\n",
              "      <th>count</th>\n",
              "      <td>5000.000000</td>\n",
              "      <td>5000.000000</td>\n",
              "      <td>5000.000000</td>\n",
              "    </tr>\n",
              "    <tr>\n",
              "      <th>mean</th>\n",
              "      <td>14925.159000</td>\n",
              "      <td>7.537600</td>\n",
              "      <td>242.512600</td>\n",
              "    </tr>\n",
              "    <tr>\n",
              "      <th>std</th>\n",
              "      <td>2869.153773</td>\n",
              "      <td>4.022465</td>\n",
              "      <td>118.254153</td>\n",
              "    </tr>\n",
              "    <tr>\n",
              "      <th>min</th>\n",
              "      <td>10001.000000</td>\n",
              "      <td>1.000000</td>\n",
              "      <td>40.000000</td>\n",
              "    </tr>\n",
              "    <tr>\n",
              "      <th>25%</th>\n",
              "      <td>12456.250000</td>\n",
              "      <td>4.000000</td>\n",
              "      <td>137.000000</td>\n",
              "    </tr>\n",
              "    <tr>\n",
              "      <th>50%</th>\n",
              "      <td>14858.500000</td>\n",
              "      <td>8.000000</td>\n",
              "      <td>243.000000</td>\n",
              "    </tr>\n",
              "    <tr>\n",
              "      <th>75%</th>\n",
              "      <td>17379.750000</td>\n",
              "      <td>11.000000</td>\n",
              "      <td>346.000000</td>\n",
              "    </tr>\n",
              "    <tr>\n",
              "      <th>max</th>\n",
              "      <td>19995.000000</td>\n",
              "      <td>14.000000</td>\n",
              "      <td>449.000000</td>\n",
              "    </tr>\n",
              "  </tbody>\n",
              "</table>\n",
              "</div>\n",
              "    <div class=\"colab-df-buttons\">\n",
              "\n",
              "  <div class=\"colab-df-container\">\n",
              "    <button class=\"colab-df-convert\" onclick=\"convertToInteractive('df-9adee768-cd38-4c4b-a6f9-c18c125ce941')\"\n",
              "            title=\"Convert this dataframe to an interactive table.\"\n",
              "            style=\"display:none;\">\n",
              "\n",
              "  <svg xmlns=\"http://www.w3.org/2000/svg\" height=\"24px\" viewBox=\"0 -960 960 960\">\n",
              "    <path d=\"M120-120v-720h720v720H120Zm60-500h600v-160H180v160Zm220 220h160v-160H400v160Zm0 220h160v-160H400v160ZM180-400h160v-160H180v160Zm440 0h160v-160H620v160ZM180-180h160v-160H180v160Zm440 0h160v-160H620v160Z\"/>\n",
              "  </svg>\n",
              "    </button>\n",
              "\n",
              "  <style>\n",
              "    .colab-df-container {\n",
              "      display:flex;\n",
              "      gap: 12px;\n",
              "    }\n",
              "\n",
              "    .colab-df-convert {\n",
              "      background-color: #E8F0FE;\n",
              "      border: none;\n",
              "      border-radius: 50%;\n",
              "      cursor: pointer;\n",
              "      display: none;\n",
              "      fill: #1967D2;\n",
              "      height: 32px;\n",
              "      padding: 0 0 0 0;\n",
              "      width: 32px;\n",
              "    }\n",
              "\n",
              "    .colab-df-convert:hover {\n",
              "      background-color: #E2EBFA;\n",
              "      box-shadow: 0px 1px 2px rgba(60, 64, 67, 0.3), 0px 1px 3px 1px rgba(60, 64, 67, 0.15);\n",
              "      fill: #174EA6;\n",
              "    }\n",
              "\n",
              "    .colab-df-buttons div {\n",
              "      margin-bottom: 4px;\n",
              "    }\n",
              "\n",
              "    [theme=dark] .colab-df-convert {\n",
              "      background-color: #3B4455;\n",
              "      fill: #D2E3FC;\n",
              "    }\n",
              "\n",
              "    [theme=dark] .colab-df-convert:hover {\n",
              "      background-color: #434B5C;\n",
              "      box-shadow: 0px 1px 3px 1px rgba(0, 0, 0, 0.15);\n",
              "      filter: drop-shadow(0px 1px 2px rgba(0, 0, 0, 0.3));\n",
              "      fill: #FFFFFF;\n",
              "    }\n",
              "  </style>\n",
              "\n",
              "    <script>\n",
              "      const buttonEl =\n",
              "        document.querySelector('#df-9adee768-cd38-4c4b-a6f9-c18c125ce941 button.colab-df-convert');\n",
              "      buttonEl.style.display =\n",
              "        google.colab.kernel.accessAllowed ? 'block' : 'none';\n",
              "\n",
              "      async function convertToInteractive(key) {\n",
              "        const element = document.querySelector('#df-9adee768-cd38-4c4b-a6f9-c18c125ce941');\n",
              "        const dataTable =\n",
              "          await google.colab.kernel.invokeFunction('convertToInteractive',\n",
              "                                                    [key], {});\n",
              "        if (!dataTable) return;\n",
              "\n",
              "        const docLinkHtml = 'Like what you see? Visit the ' +\n",
              "          '<a target=\"_blank\" href=https://colab.research.google.com/notebooks/data_table.ipynb>data table notebook</a>'\n",
              "          + ' to learn more about interactive tables.';\n",
              "        element.innerHTML = '';\n",
              "        dataTable['output_type'] = 'display_data';\n",
              "        await google.colab.output.renderOutput(dataTable, element);\n",
              "        const docLink = document.createElement('div');\n",
              "        docLink.innerHTML = docLinkHtml;\n",
              "        element.appendChild(docLink);\n",
              "      }\n",
              "    </script>\n",
              "  </div>\n",
              "\n",
              "\n",
              "<div id=\"df-15a252bc-fb9d-49b0-bcf6-6180b320c012\">\n",
              "  <button class=\"colab-df-quickchart\" onclick=\"quickchart('df-15a252bc-fb9d-49b0-bcf6-6180b320c012')\"\n",
              "            title=\"Suggest charts\"\n",
              "            style=\"display:none;\">\n",
              "\n",
              "<svg xmlns=\"http://www.w3.org/2000/svg\" height=\"24px\"viewBox=\"0 0 24 24\"\n",
              "     width=\"24px\">\n",
              "    <g>\n",
              "        <path d=\"M19 3H5c-1.1 0-2 .9-2 2v14c0 1.1.9 2 2 2h14c1.1 0 2-.9 2-2V5c0-1.1-.9-2-2-2zM9 17H7v-7h2v7zm4 0h-2V7h2v10zm4 0h-2v-4h2v4z\"/>\n",
              "    </g>\n",
              "</svg>\n",
              "  </button>\n",
              "\n",
              "<style>\n",
              "  .colab-df-quickchart {\n",
              "      --bg-color: #E8F0FE;\n",
              "      --fill-color: #1967D2;\n",
              "      --hover-bg-color: #E2EBFA;\n",
              "      --hover-fill-color: #174EA6;\n",
              "      --disabled-fill-color: #AAA;\n",
              "      --disabled-bg-color: #DDD;\n",
              "  }\n",
              "\n",
              "  [theme=dark] .colab-df-quickchart {\n",
              "      --bg-color: #3B4455;\n",
              "      --fill-color: #D2E3FC;\n",
              "      --hover-bg-color: #434B5C;\n",
              "      --hover-fill-color: #FFFFFF;\n",
              "      --disabled-bg-color: #3B4455;\n",
              "      --disabled-fill-color: #666;\n",
              "  }\n",
              "\n",
              "  .colab-df-quickchart {\n",
              "    background-color: var(--bg-color);\n",
              "    border: none;\n",
              "    border-radius: 50%;\n",
              "    cursor: pointer;\n",
              "    display: none;\n",
              "    fill: var(--fill-color);\n",
              "    height: 32px;\n",
              "    padding: 0;\n",
              "    width: 32px;\n",
              "  }\n",
              "\n",
              "  .colab-df-quickchart:hover {\n",
              "    background-color: var(--hover-bg-color);\n",
              "    box-shadow: 0 1px 2px rgba(60, 64, 67, 0.3), 0 1px 3px 1px rgba(60, 64, 67, 0.15);\n",
              "    fill: var(--button-hover-fill-color);\n",
              "  }\n",
              "\n",
              "  .colab-df-quickchart-complete:disabled,\n",
              "  .colab-df-quickchart-complete:disabled:hover {\n",
              "    background-color: var(--disabled-bg-color);\n",
              "    fill: var(--disabled-fill-color);\n",
              "    box-shadow: none;\n",
              "  }\n",
              "\n",
              "  .colab-df-spinner {\n",
              "    border: 2px solid var(--fill-color);\n",
              "    border-color: transparent;\n",
              "    border-bottom-color: var(--fill-color);\n",
              "    animation:\n",
              "      spin 1s steps(1) infinite;\n",
              "  }\n",
              "\n",
              "  @keyframes spin {\n",
              "    0% {\n",
              "      border-color: transparent;\n",
              "      border-bottom-color: var(--fill-color);\n",
              "      border-left-color: var(--fill-color);\n",
              "    }\n",
              "    20% {\n",
              "      border-color: transparent;\n",
              "      border-left-color: var(--fill-color);\n",
              "      border-top-color: var(--fill-color);\n",
              "    }\n",
              "    30% {\n",
              "      border-color: transparent;\n",
              "      border-left-color: var(--fill-color);\n",
              "      border-top-color: var(--fill-color);\n",
              "      border-right-color: var(--fill-color);\n",
              "    }\n",
              "    40% {\n",
              "      border-color: transparent;\n",
              "      border-right-color: var(--fill-color);\n",
              "      border-top-color: var(--fill-color);\n",
              "    }\n",
              "    60% {\n",
              "      border-color: transparent;\n",
              "      border-right-color: var(--fill-color);\n",
              "    }\n",
              "    80% {\n",
              "      border-color: transparent;\n",
              "      border-right-color: var(--fill-color);\n",
              "      border-bottom-color: var(--fill-color);\n",
              "    }\n",
              "    90% {\n",
              "      border-color: transparent;\n",
              "      border-bottom-color: var(--fill-color);\n",
              "    }\n",
              "  }\n",
              "</style>\n",
              "\n",
              "  <script>\n",
              "    async function quickchart(key) {\n",
              "      const quickchartButtonEl =\n",
              "        document.querySelector('#' + key + ' button');\n",
              "      quickchartButtonEl.disabled = true;  // To prevent multiple clicks.\n",
              "      quickchartButtonEl.classList.add('colab-df-spinner');\n",
              "      try {\n",
              "        const charts = await google.colab.kernel.invokeFunction(\n",
              "            'suggestCharts', [key], {});\n",
              "      } catch (error) {\n",
              "        console.error('Error during call to suggestCharts:', error);\n",
              "      }\n",
              "      quickchartButtonEl.classList.remove('colab-df-spinner');\n",
              "      quickchartButtonEl.classList.add('colab-df-quickchart-complete');\n",
              "    }\n",
              "    (() => {\n",
              "      let quickchartButtonEl =\n",
              "        document.querySelector('#df-15a252bc-fb9d-49b0-bcf6-6180b320c012 button');\n",
              "      quickchartButtonEl.style.display =\n",
              "        google.colab.kernel.accessAllowed ? 'block' : 'none';\n",
              "    })();\n",
              "  </script>\n",
              "</div>\n",
              "    </div>\n",
              "  </div>\n"
            ],
            "application/vnd.google.colaboratory.intrinsic+json": {
              "type": "dataframe",
              "summary": "{\n  \"name\": \"df\",\n  \"rows\": 8,\n  \"fields\": [\n    {\n      \"column\": \"User ID\",\n      \"properties\": {\n        \"dtype\": \"number\",\n        \"std\": 5926.818548475915,\n        \"min\": 2869.153773221977,\n        \"max\": 19995.0,\n        \"num_unique_values\": 8,\n        \"samples\": [\n          14925.159,\n          14858.5,\n          5000.0\n        ],\n        \"semantic_type\": \"\",\n        \"description\": \"\"\n      }\n    },\n    {\n      \"column\": \"Page Views\",\n      \"properties\": {\n        \"dtype\": \"number\",\n        \"std\": 1765.2686517417926,\n        \"min\": 1.0,\n        \"max\": 5000.0,\n        \"num_unique_values\": 8,\n        \"samples\": [\n          7.5376,\n          8.0,\n          5000.0\n        ],\n        \"semantic_type\": \"\",\n        \"description\": \"\"\n      }\n    },\n    {\n      \"column\": \"Time Spent\",\n      \"properties\": {\n        \"dtype\": \"number\",\n        \"std\": 1693.198277876808,\n        \"min\": 40.0,\n        \"max\": 5000.0,\n        \"num_unique_values\": 8,\n        \"samples\": [\n          242.5126,\n          243.0,\n          5000.0\n        ],\n        \"semantic_type\": \"\",\n        \"description\": \"\"\n      }\n    }\n  ]\n}"
            }
          },
          "metadata": {},
          "execution_count": 94
        }
      ]
    },
    {
      "cell_type": "code",
      "source": [
        "# Проверим уникальные значения в категориальных столбцах\n",
        "for col in ['Group', 'Conversion', 'Device', 'Location']:\n",
        "    print(f\"{col}:\\n{df[col].value_counts()}\\n\")"
      ],
      "metadata": {
        "colab": {
          "base_uri": "https://localhost:8080/"
        },
        "id": "_zsKA8BwJAc-",
        "outputId": "cf48f7a1-9190-4163-888e-dbd747d1e836"
      },
      "execution_count": 95,
      "outputs": [
        {
          "output_type": "stream",
          "name": "stdout",
          "text": [
            "Group:\n",
            "Group\n",
            "A    2519\n",
            "B    2481\n",
            "Name: count, dtype: int64\n",
            "\n",
            "Conversion:\n",
            "Conversion\n",
            "No     4515\n",
            "Yes     485\n",
            "Name: count, dtype: int64\n",
            "\n",
            "Device:\n",
            "Device\n",
            "Desktop    2538\n",
            "Mobile     2462\n",
            "Name: count, dtype: int64\n",
            "\n",
            "Location:\n",
            "Location\n",
            "Scotland            1281\n",
            "England             1246\n",
            "Northern Ireland    1242\n",
            "Wales               1231\n",
            "Name: count, dtype: int64\n",
            "\n"
          ]
        }
      ]
    },
    {
      "cell_type": "markdown",
      "source": [
        "# 3. Исследовательский анализ данных"
      ],
      "metadata": {
        "id": "_f0S8aG8dn54"
      }
    },
    {
      "cell_type": "code",
      "source": [
        "# Конверсия в группах A и B\n",
        "conversion_rates = df.groupby(\"Group\")[\"Conversion\"].value_counts(normalize=True).unstack() * 100\n",
        "print(\"Конверсия в группах A и B (%):\\n\", conversion_rates)"
      ],
      "metadata": {
        "colab": {
          "base_uri": "https://localhost:8080/"
        },
        "id": "VzkXy-pKJ_OC",
        "outputId": "790a5d56-2c96-4f0b-98d3-cc609da9be93"
      },
      "execution_count": 96,
      "outputs": [
        {
          "output_type": "stream",
          "name": "stdout",
          "text": [
            "Конверсия в группах A и B (%):\n",
            " Conversion         No        Yes\n",
            "Group                           \n",
            "A           94.601032   5.398968\n",
            "B           85.933091  14.066909\n"
          ]
        }
      ]
    },
    {
      "cell_type": "code",
      "source": [
        "# Столбчатая диаграмма для конверсии по группам\n",
        "plt.figure(figsize=(6, 4))\n",
        "sns.countplot(x='Group', hue='Conversion', data=df, palette='Set2', stat='percent')\n",
        "plt.title('Конверсия по группам ')\n",
        "plt.xlabel('Группа')\n",
        "plt.ylabel('Частота')\n",
        "plt.legend(title='Конверсия', labels=['Нет', 'Да'])\n",
        "\n",
        "plt.tight_layout()  # Подгоняет графики, чтобы они не перекрывались\n",
        "plt.show()"
      ],
      "metadata": {
        "colab": {
          "base_uri": "https://localhost:8080/",
          "height": 407
        },
        "id": "xhj5PS76h36p",
        "outputId": "b2a35a2b-5b3d-4b8a-9c24-9b581c48baa7"
      },
      "execution_count": 121,
      "outputs": [
        {
          "output_type": "display_data",
          "data": {
            "text/plain": [
              "<Figure size 600x400 with 1 Axes>"
            ],
            "image/png": "[encoded data removed]"
          },
          "metadata": {}
        }
      ]
    },
    {
      "cell_type": "code",
      "source": [
        "# Средние Page Views и Time Spent в группах A и B\n",
        "means = df.groupby(\"Group\")[[\"Page Views\", \"Time Spent\"]].mean()\n",
        "print(\"\\nСредние в группах A и B:\\n\", means)"
      ],
      "metadata": {
        "colab": {
          "base_uri": "https://localhost:8080/"
        },
        "id": "-spid5V1KJaY",
        "outputId": "5dea2b7d-0dbd-4322-bf7d-27e9d3ffede9"
      },
      "execution_count": 97,
      "outputs": [
        {
          "output_type": "stream",
          "name": "stdout",
          "text": [
            "\n",
            "Средние в группах A и B:\n",
            "        Page Views  Time Spent\n",
            "Group                        \n",
            "A        7.581580  241.733227\n",
            "B        7.492946  243.303910\n"
          ]
        }
      ]
    },
    {
      "cell_type": "code",
      "source": [
        "# Гистограммы распределений по времени и страницам\n",
        "\n",
        "import seaborn as sns\n",
        "import matplotlib.pyplot as plt\n",
        "sns.set_palette(\"Set2\")\n",
        "\n",
        "# 1. Гистограммы для времени на сайте\n",
        "plt.figure(figsize=(6, 4))\n",
        "sns.histplot(df[df['Group'] == 'A']['Time Spent'], kde=True, label='Group A', stat='density', linewidth=0)\n",
        "sns.histplot(df[df['Group'] == 'B']['Time Spent'], kde=True,  label='Group B', stat='density', linewidth=0)\n",
        "plt.legend()\n",
        "plt.title('Распределение времени на сайте для Group A и B')\n",
        "plt.xlabel('Время на сайте (в секундах)')\n",
        "plt.ylabel('Плотность')\n",
        "plt.show()\n",
        "\n",
        "# 2. Гистограммы для количества страниц\n",
        "plt.figure(figsize=(6, 4))\n",
        "sns.histplot(df[df['Group'] == 'A']['Page Views'], kde=True,  label='Group A', stat='density', linewidth=0)\n",
        "sns.histplot(df[df['Group'] == 'B']['Page Views'], kde=True,  label='Group B', stat='density', linewidth=0)\n",
        "plt.legend()\n",
        "plt.title('Распределение количества страниц для Group A и B')\n",
        "plt.xlabel('Количество страниц')\n",
        "plt.ylabel('Плотность')\n",
        "plt.show()"
      ],
      "metadata": {
        "colab": {
          "base_uri": "https://localhost:8080/",
          "height": 803
        },
        "id": "Vvifid-zaUlU",
        "outputId": "f4855427-5d50-4abe-b2f9-3317dbb81c99"
      },
      "execution_count": 83,
      "outputs": [
        {
          "output_type": "display_data",
          "data": {
            "text/plain": [
              "<Figure size 600x400 with 1 Axes>"
            ],
            "image/png": "[encoded data removed]"
          },
          "metadata": {}
        },
        {
          "output_type": "display_data",
          "data": {
            "text/plain": [
              "<Figure size 600x400 with 1 Axes>"
            ],
            "image/png": "[encoded data removed]"
          },
          "metadata": {}
        }
      ]
    },
    {
      "cell_type": "code",
      "source": [
        "plt.figure(figsize=(9, 5))\n",
        "\n",
        "# 1. Boxplot для времени на сайте\n",
        "plt.subplot(1, 2, 1)\n",
        "sns.boxplot(x='Group', y='Time Spent', data=df, palette='Set2')\n",
        "plt.title('Распределение времени на сайте по группам')\n",
        "plt.xlabel('Группы')\n",
        "plt.ylabel('Время на сайте (в секундах)')\n",
        "\n",
        "# 2. Boxplot для количества страниц\n",
        "plt.subplot(1, 2, 2)\n",
        "sns.boxplot(x='Group', y='Page Views', data=df, palette='Set2')\n",
        "plt.title('Распределение количества страниц по группам')\n",
        "plt.xlabel('Группы')\n",
        "plt.ylabel('Количество страниц')\n",
        "\n",
        "plt.tight_layout()  # Подгоняет графики, чтобы они не перекрывались\n",
        "plt.show()"
      ],
      "metadata": {
        "colab": {
          "base_uri": "https://localhost:8080/",
          "height": 507
        },
        "id": "hPOrNQ_Ba3Rg",
        "outputId": "c44b15c1-78ff-4bd1-ad6e-e4dcb80b80fb"
      },
      "execution_count": 116,
      "outputs": [
        {
          "output_type": "display_data",
          "data": {
            "text/plain": [
              "<Figure size 900x500 with 2 Axes>"
            ],
            "image/png": "[encoded data removed]"
          },
          "metadata": {}
        }
      ]
    },
    {
      "cell_type": "code",
      "source": [
        "# Распределение устройств\n",
        "device_distribution = df[\"Device\"].value_counts(normalize=True) * 100\n",
        "print(\"\\nРаспределение устройств (%):\\n\", device_distribution)\n",
        "\n",
        "# Распределение устройств\n",
        "device_distribution_ab = df.groupby(\"Group\")['Device'].value_counts(normalize=True).unstack() * 100\n",
        "print(\"\\nРаспределение устройств по контрольным группам(%):\\n\", device_distribution_ab)"
      ],
      "metadata": {
        "colab": {
          "base_uri": "https://localhost:8080/"
        },
        "id": "15LifxviLn_e",
        "outputId": "7ddabe71-025e-4647-871e-60b5c50a7b28"
      },
      "execution_count": 107,
      "outputs": [
        {
          "output_type": "stream",
          "name": "stdout",
          "text": [
            "\n",
            "Распределение устройств (%):\n",
            " Device\n",
            "Desktop    50.76\n",
            "Mobile     49.24\n",
            "Name: proportion, dtype: float64\n",
            "\n",
            "Распределение устройств по контрольным группам(%):\n",
            " Device    Desktop     Mobile\n",
            "Group                       \n",
            "A       49.384676  50.615324\n",
            "B       52.156389  47.843611\n"
          ]
        }
      ]
    },
    {
      "cell_type": "code",
      "source": [
        "plt.figure(figsize=(9, 4))\n",
        "\n",
        "# Столбчатая диаграмма для распределения устройств\n",
        "plt.subplot(1, 2, 1)\n",
        "sns.barplot(x=device_distribution.index, y=device_distribution.values, palette='Set2')\n",
        "plt.title('Распределение устройств (%)')\n",
        "plt.xlabel('Устройство')\n",
        "plt.ylabel('Процент пользователей (%)')\n",
        "\n",
        "\n",
        "# Столбчатая диаграмма для конверсии по устройствам\n",
        "plt.subplot(1, 2, 2)\n",
        "sns.countplot(x='Device', hue='Conversion', data=df, palette='Set2')\n",
        "plt.title('Конверсия по устройствам (Mobile vs Desktop)')\n",
        "plt.xlabel('Устройство')\n",
        "plt.ylabel('Частота')\n",
        "plt.legend(title='Конверсия', labels=['Нет', 'Да'])\n",
        "\n",
        "plt.tight_layout()  # Подгоняет графики, чтобы они не перекрывались\n",
        "plt.show()"
      ],
      "metadata": {
        "colab": {
          "base_uri": "https://localhost:8080/",
          "height": 407
        },
        "id": "SlFp6zvzgtAG",
        "outputId": "d0ba0c99-5666-441c-820f-ebaa8110e6af"
      },
      "execution_count": 115,
      "outputs": [
        {
          "output_type": "display_data",
          "data": {
            "text/plain": [
              "<Figure size 900x400 with 2 Axes>"
            ],
            "image/png": "[encoded data removed]"
          },
          "metadata": {}
        }
      ]
    },
    {
      "cell_type": "code",
      "source": [
        "# Распределение по странам\n",
        "location_distribution = df[\"Location\"].value_counts(normalize=True) * 100\n",
        "print(\"\\nРаспределение пользователей по локациям (%):\\n\", location_distribution)"
      ],
      "metadata": {
        "colab": {
          "base_uri": "https://localhost:8080/"
        },
        "id": "wcOJFY8qhcqD",
        "outputId": "3f99198f-6f88-49be-9a17-a2c93ec12480"
      },
      "execution_count": 117,
      "outputs": [
        {
          "output_type": "stream",
          "name": "stdout",
          "text": [
            "\n",
            "Распределение пользователей по локациям (%):\n",
            " Location\n",
            "Scotland            25.62\n",
            "England             24.92\n",
            "Northern Ireland    24.84\n",
            "Wales               24.62\n",
            "Name: proportion, dtype: float64\n"
          ]
        }
      ]
    },
    {
      "cell_type": "markdown",
      "source": [
        "**Выводы**:\n",
        "- Конверсия в тестовой группе (B) значительно выше (14.07% против 5.40% в контрольной группе A). Это говорит о возможном положительном влиянии черного фона.\n",
        "- Средние просмотры страниц почти одинаковые (7.58 vs. 7.49), а время на сайте в группе B чуть выше (243.3 vs. 241.7 сек.). Это может указывать на то, что фон не сильно влияет на вовлеченность.\n",
        "- Распределение устройств примерно 50/50 между Desktop и Mobile. Это значит, что можно дополнительно посмотреть различия по устройствам.\n",
        "- Локация пользователей распределена примерно равномерно по регионам Великобритании\n",
        "\n",
        "-------------------------------------------------------------------------"
      ],
      "metadata": {
        "id": "DcIlHOFrNjkH"
      }
    },
    {
      "cell_type": "markdown",
      "source": [
        "# 4. A/B тесты"
      ],
      "metadata": {
        "id": "jPKwHDC_jE4I"
      }
    },
    {
      "cell_type": "markdown",
      "source": [
        "\n",
        "Мы проверим влияние фона сайта на конверсию и другие метрики с использованием следующих статистических тестов:\n",
        "1. **z-тест** для анализа пропорций конверсии А и В групп\n",
        "2. **t-тест** для времени на сайте и количества страниц между группами A и B.\n"
      ],
      "metadata": {
        "id": "Okpp3uU_jUbu"
      }
    },
    {
      "cell_type": "markdown",
      "source": [
        "## 1. Анализ пропорций конверсии групп А и В\n",
        "\n",
        "Для анализа конверсии мы будем использовать **z-тест для пропорций**. Этот тест позволяет проверить, есть ли статистически значимая разница между долями конверсии в двух независимых группах (A и B).\n",
        "\n",
        "- **Нулевая гипотеза (H₀):** Пропорции конверсии в группах A и B **одинаковы**. То есть, изменения интерфейса не повлияли на конверсию.\n",
        "- **Альтернативная гипотеза (H₁):** Пропорции конверсии в группах A и B **различаются**. То есть, изменения интерфейса повлияли на конверсию.\n",
        "\n",
        "\n",
        "Что нужно для z-теста для пропорций:\n",
        "- Мы должны подсчитать долю конверсий для каждой группы.\n",
        "- Затем, используя формулу для z-статистики, сравним их."
      ],
      "metadata": {
        "id": "YhiYIQIVj-DG"
      }
    },
    {
      "cell_type": "code",
      "source": [
        "# Импортируем библиотеку для нормального распределения\n",
        "from scipy import stats\n",
        "\n",
        "# Подсчитываем долю конверсий для каждой группы\n",
        "conversion_a = df[df['Group'] == 'A']['Conversion'].value_counts(normalize=True).get('Yes', 0)\n",
        "conversion_b = df[df['Group'] == 'B']['Conversion'].value_counts(normalize=True).get('Yes', 0)\n",
        "\n",
        "# Количество пользователей в каждой группе\n",
        "n_a = df[df['Group'] == 'A'].shape[0]\n",
        "n_b = df[df['Group'] == 'B'].shape[0]\n",
        "\n",
        "# Стандартная ошибка разницы между пропорциями\n",
        "p_pool = (conversion_a * n_a + conversion_b * n_b) / (n_a + n_b)\n",
        "se = (p_pool * (1 - p_pool) * (1/n_a + 1/n_b))   **0.5\n",
        "\n",
        "# z-статистика\n",
        "z_stat = (conversion_a - conversion_b) / se\n",
        "\n",
        "# p-значение для двустороннего теста\n",
        "p_val = 2 * (1 - stats.norm.cdf(abs(z_stat)))\n",
        "\n",
        "print(f\"Z-тест для пропорций: Z = {z_stat:.4f}, p-value = {p_val:.4f}\")\n"
      ],
      "metadata": {
        "colab": {
          "base_uri": "https://localhost:8080/"
        },
        "id": "M5FwNOjQWw0R",
        "outputId": "545eaf65-91fa-4114-ca71-4ec445b95831"
      },
      "execution_count": 122,
      "outputs": [
        {
          "output_type": "stream",
          "name": "stdout",
          "text": [
            "Z-тест для пропорций: Z = -10.3545, p-value = 0.0000\n"
          ]
        }
      ]
    },
    {
      "cell_type": "markdown",
      "source": [
        "**z-статистика (-10.35):** Это значение говорит о том, насколько сильно различаются конверсии между группами A и B. Чем дальше от нуля это значение, тем сильнее различие.\n",
        "\n",
        "**p-значение (0.0):** Это очень маленькое значение(меньше 0.05), которое указывает на то, что разница между группами статистически значимая. Мы отвергаем нулевую гипотезу, что конверсия в обеих группах одинаковая.\n",
        "\n",
        "**Вывод:** Разница в конверсии между группами A и B статистически значима"
      ],
      "metadata": {
        "id": "DoZzustBkSou"
      }
    },
    {
      "cell_type": "markdown",
      "source": [
        "## 2. Анализ среднего по времени на сайте и количества страниц между группами A и B."
      ],
      "metadata": {
        "id": "MxSBitrCkTew"
      }
    },
    {
      "cell_type": "markdown",
      "source": [
        "t-тест для независимых выборок используется для сравнения средних значений двух независимых групп (в нашем случае, групп A и B), чтобы проверить, есть ли статистически значимое различие между этими средними.\n",
        "\n",
        "В нашем проекте мы использовали t-тест для двух метрик:\n",
        "\n",
        "- Время, проведенное на сайте (в секундах)\n",
        "- Количество страниц, просмотренных пользователем\n",
        "\n",
        "Гипотезы:\n",
        "- Нулевая гипотеза (H₀): Средние значения метрик в группах A и B одинаковы.\n",
        "- Альтернативная гипотеза (H₁): Средние значения в группах A и B различаются.\n",
        "\n",
        "\n",
        "t-статистика показывает, насколько сильно отличаются средние значения двух групп, относительно их разброса. Чем дальше t-статистика от нуля, тем сильнее различие.\n",
        "\n",
        "p-значение - вероятность того, что разница между средними значениями двух групп произошла случайно. Если p-значение меньше 0.05, то мы отвергаем нулевую гипотезу, и считаем разницу статистически значимой.\n"
      ],
      "metadata": {
        "id": "bIiZANTykwbs"
      }
    },
    {
      "cell_type": "code",
      "source": [
        "# t-тест для среднего времени на сайте\n",
        "group_a_time = df[df['Group'] == 'A']['Time Spent']\n",
        "group_b_time = df[df['Group'] == 'B']['Time Spent']\n",
        "t_stat_time, p_val_time = stats.ttest_ind(group_a_time, group_b_time)\n",
        "\n",
        "\n",
        "t_stat_time, p_val_time\n"
      ],
      "metadata": {
        "colab": {
          "base_uri": "https://localhost:8080/"
        },
        "id": "PCQowuPkkJ0I",
        "outputId": "f4364299-fa24-48fd-d89b-16eaa271c986"
      },
      "execution_count": 123,
      "outputs": [
        {
          "output_type": "execute_result",
          "data": {
            "text/plain": [
              "(0.778989365879181, 0.4360228594083837)"
            ]
          },
          "metadata": {},
          "execution_count": 123
        }
      ]
    },
    {
      "cell_type": "markdown",
      "source": [
        "Вывод: p-значение больше 0.05 (0.44) означает, что разница между группами не является статистически значимой, и мы не можем утверждать, что изменение фона (цвета) влияет на время на сайте."
      ],
      "metadata": {
        "id": "DJtlpbiTsVz_"
      }
    },
    {
      "cell_type": "code",
      "source": [
        "\n",
        "# t-тест для среднего количества страниц\n",
        "group_a_pages = df[df['Group'] == 'A']['Page Views']\n",
        "group_b_pages = df[df['Group'] == 'B']['Page Views']\n",
        "t_stat_pages, p_val_pages = stats.ttest_ind(group_a_pages, group_b_pages)\n",
        "\n",
        "t_stat_pages, p_val_pages"
      ],
      "metadata": {
        "colab": {
          "base_uri": "https://localhost:8080/"
        },
        "id": "rOZLHa16kJxx",
        "outputId": "e5ab93fa-4367-4965-902d-2df5098864b1"
      },
      "execution_count": 125,
      "outputs": [
        {
          "output_type": "execute_result",
          "data": {
            "text/plain": [
              "(0.778989365879181, 0.4360228594083837)"
            ]
          },
          "metadata": {},
          "execution_count": 125
        }
      ]
    },
    {
      "cell_type": "markdown",
      "source": [
        "Вывод: p-значение больше 0.05 (0.44) означает, что разница между группами не является статистически значимой, и мы не можем утверждать, что изменение фона (цвета) влияет на количество страниц."
      ],
      "metadata": {
        "id": "yzFnItoysnLa"
      }
    },
    {
      "cell_type": "markdown",
      "source": [
        "# Тесты для оценки влияния других факторов\n",
        "\n",
        " **хи-квадрат тест** для анализа зависимости между устройством и конверсией."
      ],
      "metadata": {
        "id": "cM-YzcH0llT-"
      }
    },
    {
      "cell_type": "code",
      "source": [
        "import scipy.stats as stats\n",
        "import pandas as pd\n",
        "\n",
        "# Создадим сводную таблицу с подсчетом количества конверсий по устройствам\n",
        "device_conversion_table = pd.crosstab(df['Device'], df['Conversion'])\n",
        "\n",
        "# Проводим хи-квадрат тест для независимости\n",
        "chi2, p, dof, expected = stats.chi2_contingency(device_conversion_table)\n",
        "\n",
        "# Выводим результаты\n",
        "print(f\"Хи-квадрат статистика: {chi2}\")\n",
        "print(f\"p-значение: {p}\")"
      ],
      "metadata": {
        "colab": {
          "base_uri": "https://localhost:8080/"
        },
        "id": "wOgrduyPlAWd",
        "outputId": "124196dc-42fa-4411-8e50-3701174310ea"
      },
      "execution_count": 126,
      "outputs": [
        {
          "output_type": "stream",
          "name": "stdout",
          "text": [
            "Хи-квадрат статистика: 0.3642000562330795\n",
            "p-значение: 0.5461828342638735\n"
          ]
        }
      ]
    },
    {
      "cell_type": "markdown",
      "source": [
        "**хи-квадрат тест** для анализа зависимости между локацией и конверсией."
      ],
      "metadata": {
        "id": "1iqOI9ltzCqq"
      }
    },
    {
      "cell_type": "code",
      "source": [
        "# Создаем сводную таблицу с подсчетом количества конверсий по локациям\n",
        "location_conversion_table = pd.crosstab(df['Location'], df['Conversion'])\n",
        "\n",
        "# Проводим хи-квадрат тест для независимости\n",
        "chi2, p, dof, expected = stats.chi2_contingency(location_conversion_table)\n",
        "\n",
        "# Выводим результаты\n",
        "print(f\"Хи-квадрат статистика: {chi2}\")\n",
        "print(f\"p-значение: {p}\")"
      ],
      "metadata": {
        "colab": {
          "base_uri": "https://localhost:8080/"
        },
        "id": "1ZcsLwM4lAUN",
        "outputId": "de72be33-de56-4926-a78b-0789b7311968"
      },
      "execution_count": 127,
      "outputs": [
        {
          "output_type": "stream",
          "name": "stdout",
          "text": [
            "Хи-квадрат статистика: 4.9349148365909015\n",
            "p-значение: 0.17662550981879305\n"
          ]
        }
      ]
    },
    {
      "cell_type": "markdown",
      "source": [
        "# Вывод\n"
      ],
      "metadata": {
        "id": "0arFI2QqzMh-"
      }
    },
    {
      "cell_type": "markdown",
      "source": [
        "На основе проведенных A/B тестов и статистических анализов, мы можем сделать следующие выводы:\n",
        "\n",
        "1. Влияние фона на конверсию:\n",
        "Результаты z-теста показали, что разница в конверсии между группами A и B (с белым и черным фоном соответственно) статистически значима. Это значит, что изменение фона вебсайта влияет на поведение пользователей, а именно на их решение совершить покупку или подписку. Разница в конверсии между двумя группами не случайна.\n",
        "\n",
        "2. Влияние девайса на конверсию:\n",
        "В ходе тестирования влияния устройства (мобильное vs. десктоп) на конверсию, мы не нашли значимой разницы. Это может свидетельствовать о том, что для данного вебсайта конверсия не сильно зависит от типа устройства, на котором пользователи его открывают.\n",
        "\n",
        "3. Время на сайте и количество просмотренных страниц:\n",
        "По результатам t-тестов для времени на сайте и количества страниц не удалось обнаружить статистически значимых различий между группами A и B. Это может указывать на то, что изменение фона не оказывает значительного влияния на длительность пребывания пользователя на сайте и количество страниц, которые он просматривает.\n",
        "\n",
        "## Заключение\n",
        "На основании проведенного анализа, изменение фона вебсайта (с белого на черный) влияет на конверсию пользователей, что подтверждается результатами статистического теста. Однако, для других метрик, таких как время на сайте и количество просмотренных страниц, значимых различий между группами не обнаружено.\n",
        "\n",
        "Возможности для дальнейшей работы\n",
        "- Проверка других факторов, влияющих на конверсию: Например, цвета кнопок, расположение элементов на странице, тексты на кнопках.\n",
        "- Анализ поведения пользователей: Понимание, как различия в интерфейсе влияют на поведение пользователей, например, можно проводить анализ кликов и движения мыши.\n",
        "- Дополнительные сегментации: Изучение того, как конверсия может зависеть от демографических характеристик пользователей (например, возраста, локации)."
      ],
      "metadata": {
        "id": "jlQFy41azRXQ"
      }
    }
  ]
}