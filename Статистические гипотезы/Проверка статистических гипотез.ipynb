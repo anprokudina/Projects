{
  "nbformat": 4,
  "nbformat_minor": 0,
  "metadata": {
    "colab": {
      "provenance": []
    },
    "kernelspec": {
      "name": "python3",
      "display_name": "Python 3"
    },
    "language_info": {
      "name": "python"
    }
  },
  "cells": [
    {
      "cell_type": "markdown",
      "source": [
        "# Проверка статистических гипотез\n",
        "\n",
        "Выбрать гипотезу для проверки:\n",
        "\n",
        "О равенстве математических ожиданий или гипотезу о равенстве медиан.\n",
        "\n",
        "- Обосновать выбор.\n",
        "- Проверить гипотезу.\n"
      ],
      "metadata": {
        "id": "j0SG-5rkkc7X"
      }
    },
    {
      "cell_type": "markdown",
      "source": [
        "1. Загружаем необходимые библиотеки:"
      ],
      "metadata": {
        "id": "ARu5pVDXsnfr"
      }
    },
    {
      "cell_type": "code",
      "source": [
        "import pandas as pd\n",
        "import numpy as np\n",
        "from scipy import stats\n",
        "\n",
        "import matplotlib\n",
        "import matplotlib.pyplot as plt\n",
        "import seaborn as sns\n",
        "\n",
        "%matplotlib inline"
      ],
      "metadata": {
        "id": "k7WVNG6Rf3OL"
      },
      "execution_count": null,
      "outputs": []
    },
    {
      "cell_type": "code",
      "source": [
        "from google.colab import drive\n",
        "drive.mount('/content/drive')"
      ],
      "metadata": {
        "colab": {
          "base_uri": "https://localhost:8080/"
        },
        "id": "Mn56PL4qHbb4",
        "outputId": "da990713-c62c-4be3-ba9b-9ee68b6c198f"
      },
      "execution_count": null,
      "outputs": [
        {
          "output_type": "stream",
          "name": "stdout",
          "text": [
            "Mounted at /content/drive\n"
          ]
        }
      ]
    },
    {
      "cell_type": "markdown",
      "source": [
        "2. Импортируем данные:"
      ],
      "metadata": {
        "id": "2bw6TiNIHd67"
      }
    },
    {
      "cell_type": "code",
      "source": [
        "file_path = '/content/drive/My Drive/Colab Notebooks/Анализ данных на питоне /4 лабораторная /AmesHousing.txt'\n",
        "\n",
        "df = pd.read_csv(file_path,  sep=\"\\t\", header = 0, index_col=False )"
      ],
      "metadata": {
        "id": "PM4P6eWHHWkJ"
      },
      "execution_count": null,
      "outputs": []
    },
    {
      "cell_type": "markdown",
      "source": [
        "Посмотрим на данные, все ли хорошо?"
      ],
      "metadata": {
        "id": "NoKVCzueeEZd"
      }
    },
    {
      "cell_type": "code",
      "source": [
        "df.head(3)"
      ],
      "metadata": {
        "colab": {
          "base_uri": "https://localhost:8080/",
          "height": 190
        },
        "id": "iWnVUCF2dcBl",
        "outputId": "d31f3726-7a3b-4456-e874-6c2ee67361e3"
      },
      "execution_count": null,
      "outputs": [
        {
          "output_type": "execute_result",
          "data": {
            "text/plain": [
              "   Order        PID  MS SubClass MS Zoning  Lot Frontage  Lot Area Street  \\\n",
              "0      1  526301100           20        RL         141.0     31770   Pave   \n",
              "1      2  526350040           20        RH          80.0     11622   Pave   \n",
              "2      3  526351010           20        RL          81.0     14267   Pave   \n",
              "\n",
              "  Alley Lot Shape Land Contour  ... Pool Area Pool QC  Fence Misc Feature  \\\n",
              "0   NaN       IR1          Lvl  ...         0     NaN    NaN          NaN   \n",
              "1   NaN       Reg          Lvl  ...         0     NaN  MnPrv          NaN   \n",
              "2   NaN       IR1          Lvl  ...         0     NaN    NaN         Gar2   \n",
              "\n",
              "  Misc Val Mo Sold Yr Sold Sale Type  Sale Condition  SalePrice  \n",
              "0        0       5    2010       WD           Normal     215000  \n",
              "1        0       6    2010       WD           Normal     105000  \n",
              "2    12500       6    2010       WD           Normal     172000  \n",
              "\n",
              "[3 rows x 82 columns]"
            ],
            "text/html": [
              "\n",
              "  <div id=\"df-9cd4d15d-eec5-4400-8a21-91fdbffb372f\" class=\"colab-df-container\">\n",
              "    <div>\n",
              "<style scoped>\n",
              "    .dataframe tbody tr th:only-of-type {\n",
              "        vertical-align: middle;\n",
              "    }\n",
              "\n",
              "    .dataframe tbody tr th {\n",
              "        vertical-align: top;\n",
              "    }\n",
              "\n",
              "    .dataframe thead th {\n",
              "        text-align: right;\n",
              "    }\n",
              "</style>\n",
              "<table border=\"1\" class=\"dataframe\">\n",
              "  <thead>\n",
              "    <tr style=\"text-align: right;\">\n",
              "      <th></th>\n",
              "      <th>Order</th>\n",
              "      <th>PID</th>\n",
              "      <th>MS SubClass</th>\n",
              "      <th>MS Zoning</th>\n",
              "      <th>Lot Frontage</th>\n",
              "      <th>Lot Area</th>\n",
              "      <th>Street</th>\n",
              "      <th>Alley</th>\n",
              "      <th>Lot Shape</th>\n",
              "      <th>Land Contour</th>\n",
              "      <th>...</th>\n",
              "      <th>Pool Area</th>\n",
              "      <th>Pool QC</th>\n",
              "      <th>Fence</th>\n",
              "      <th>Misc Feature</th>\n",
              "      <th>Misc Val</th>\n",
              "      <th>Mo Sold</th>\n",
              "      <th>Yr Sold</th>\n",
              "      <th>Sale Type</th>\n",
              "      <th>Sale Condition</th>\n",
              "      <th>SalePrice</th>\n",
              "    </tr>\n",
              "  </thead>\n",
              "  <tbody>\n",
              "    <tr>\n",
              "      <th>0</th>\n",
              "      <td>1</td>\n",
              "      <td>526301100</td>\n",
              "      <td>20</td>\n",
              "      <td>RL</td>\n",
              "      <td>141.0</td>\n",
              "      <td>31770</td>\n",
              "      <td>Pave</td>\n",
              "      <td>NaN</td>\n",
              "      <td>IR1</td>\n",
              "      <td>Lvl</td>\n",
              "      <td>...</td>\n",
              "      <td>0</td>\n",
              "      <td>NaN</td>\n",
              "      <td>NaN</td>\n",
              "      <td>NaN</td>\n",
              "      <td>0</td>\n",
              "      <td>5</td>\n",
              "      <td>2010</td>\n",
              "      <td>WD</td>\n",
              "      <td>Normal</td>\n",
              "      <td>215000</td>\n",
              "    </tr>\n",
              "    <tr>\n",
              "      <th>1</th>\n",
              "      <td>2</td>\n",
              "      <td>526350040</td>\n",
              "      <td>20</td>\n",
              "      <td>RH</td>\n",
              "      <td>80.0</td>\n",
              "      <td>11622</td>\n",
              "      <td>Pave</td>\n",
              "      <td>NaN</td>\n",
              "      <td>Reg</td>\n",
              "      <td>Lvl</td>\n",
              "      <td>...</td>\n",
              "      <td>0</td>\n",
              "      <td>NaN</td>\n",
              "      <td>MnPrv</td>\n",
              "      <td>NaN</td>\n",
              "      <td>0</td>\n",
              "      <td>6</td>\n",
              "      <td>2010</td>\n",
              "      <td>WD</td>\n",
              "      <td>Normal</td>\n",
              "      <td>105000</td>\n",
              "    </tr>\n",
              "    <tr>\n",
              "      <th>2</th>\n",
              "      <td>3</td>\n",
              "      <td>526351010</td>\n",
              "      <td>20</td>\n",
              "      <td>RL</td>\n",
              "      <td>81.0</td>\n",
              "      <td>14267</td>\n",
              "      <td>Pave</td>\n",
              "      <td>NaN</td>\n",
              "      <td>IR1</td>\n",
              "      <td>Lvl</td>\n",
              "      <td>...</td>\n",
              "      <td>0</td>\n",
              "      <td>NaN</td>\n",
              "      <td>NaN</td>\n",
              "      <td>Gar2</td>\n",
              "      <td>12500</td>\n",
              "      <td>6</td>\n",
              "      <td>2010</td>\n",
              "      <td>WD</td>\n",
              "      <td>Normal</td>\n",
              "      <td>172000</td>\n",
              "    </tr>\n",
              "  </tbody>\n",
              "</table>\n",
              "<p>3 rows × 82 columns</p>\n",
              "</div>\n",
              "    <div class=\"colab-df-buttons\">\n",
              "\n",
              "  <div class=\"colab-df-container\">\n",
              "    <button class=\"colab-df-convert\" onclick=\"convertToInteractive('df-9cd4d15d-eec5-4400-8a21-91fdbffb372f')\"\n",
              "            title=\"Convert this dataframe to an interactive table.\"\n",
              "            style=\"display:none;\">\n",
              "\n",
              "  <svg xmlns=\"http://www.w3.org/2000/svg\" height=\"24px\" viewBox=\"0 -960 960 960\">\n",
              "    <path d=\"M120-120v-720h720v720H120Zm60-500h600v-160H180v160Zm220 220h160v-160H400v160Zm0 220h160v-160H400v160ZM180-400h160v-160H180v160Zm440 0h160v-160H620v160ZM180-180h160v-160H180v160Zm440 0h160v-160H620v160Z\"/>\n",
              "  </svg>\n",
              "    </button>\n",
              "\n",
              "  <style>\n",
              "    .colab-df-container {\n",
              "      display:flex;\n",
              "      gap: 12px;\n",
              "    }\n",
              "\n",
              "    .colab-df-convert {\n",
              "      background-color: #E8F0FE;\n",
              "      border: none;\n",
              "      border-radius: 50%;\n",
              "      cursor: pointer;\n",
              "      display: none;\n",
              "      fill: #1967D2;\n",
              "      height: 32px;\n",
              "      padding: 0 0 0 0;\n",
              "      width: 32px;\n",
              "    }\n",
              "\n",
              "    .colab-df-convert:hover {\n",
              "      background-color: #E2EBFA;\n",
              "      box-shadow: 0px 1px 2px rgba(60, 64, 67, 0.3), 0px 1px 3px 1px rgba(60, 64, 67, 0.15);\n",
              "      fill: #174EA6;\n",
              "    }\n",
              "\n",
              "    .colab-df-buttons div {\n",
              "      margin-bottom: 4px;\n",
              "    }\n",
              "\n",
              "    [theme=dark] .colab-df-convert {\n",
              "      background-color: #3B4455;\n",
              "      fill: #D2E3FC;\n",
              "    }\n",
              "\n",
              "    [theme=dark] .colab-df-convert:hover {\n",
              "      background-color: #434B5C;\n",
              "      box-shadow: 0px 1px 3px 1px rgba(0, 0, 0, 0.15);\n",
              "      filter: drop-shadow(0px 1px 2px rgba(0, 0, 0, 0.3));\n",
              "      fill: #FFFFFF;\n",
              "    }\n",
              "  </style>\n",
              "\n",
              "    <script>\n",
              "      const buttonEl =\n",
              "        document.querySelector('#df-9cd4d15d-eec5-4400-8a21-91fdbffb372f button.colab-df-convert');\n",
              "      buttonEl.style.display =\n",
              "        google.colab.kernel.accessAllowed ? 'block' : 'none';\n",
              "\n",
              "      async function convertToInteractive(key) {\n",
              "        const element = document.querySelector('#df-9cd4d15d-eec5-4400-8a21-91fdbffb372f');\n",
              "        const dataTable =\n",
              "          await google.colab.kernel.invokeFunction('convertToInteractive',\n",
              "                                                    [key], {});\n",
              "        if (!dataTable) return;\n",
              "\n",
              "        const docLinkHtml = 'Like what you see? Visit the ' +\n",
              "          '<a target=\"_blank\" href=https://colab.research.google.com/notebooks/data_table.ipynb>data table notebook</a>'\n",
              "          + ' to learn more about interactive tables.';\n",
              "        element.innerHTML = '';\n",
              "        dataTable['output_type'] = 'display_data';\n",
              "        await google.colab.output.renderOutput(dataTable, element);\n",
              "        const docLink = document.createElement('div');\n",
              "        docLink.innerHTML = docLinkHtml;\n",
              "        element.appendChild(docLink);\n",
              "      }\n",
              "    </script>\n",
              "  </div>\n",
              "\n",
              "\n",
              "<div id=\"df-464dc4ac-0f5d-430b-99ed-0cf5839ba920\">\n",
              "  <button class=\"colab-df-quickchart\" onclick=\"quickchart('df-464dc4ac-0f5d-430b-99ed-0cf5839ba920')\"\n",
              "            title=\"Suggest charts\"\n",
              "            style=\"display:none;\">\n",
              "\n",
              "<svg xmlns=\"http://www.w3.org/2000/svg\" height=\"24px\"viewBox=\"0 0 24 24\"\n",
              "     width=\"24px\">\n",
              "    <g>\n",
              "        <path d=\"M19 3H5c-1.1 0-2 .9-2 2v14c0 1.1.9 2 2 2h14c1.1 0 2-.9 2-2V5c0-1.1-.9-2-2-2zM9 17H7v-7h2v7zm4 0h-2V7h2v10zm4 0h-2v-4h2v4z\"/>\n",
              "    </g>\n",
              "</svg>\n",
              "  </button>\n",
              "\n",
              "<style>\n",
              "  .colab-df-quickchart {\n",
              "      --bg-color: #E8F0FE;\n",
              "      --fill-color: #1967D2;\n",
              "      --hover-bg-color: #E2EBFA;\n",
              "      --hover-fill-color: #174EA6;\n",
              "      --disabled-fill-color: #AAA;\n",
              "      --disabled-bg-color: #DDD;\n",
              "  }\n",
              "\n",
              "  [theme=dark] .colab-df-quickchart {\n",
              "      --bg-color: #3B4455;\n",
              "      --fill-color: #D2E3FC;\n",
              "      --hover-bg-color: #434B5C;\n",
              "      --hover-fill-color: #FFFFFF;\n",
              "      --disabled-bg-color: #3B4455;\n",
              "      --disabled-fill-color: #666;\n",
              "  }\n",
              "\n",
              "  .colab-df-quickchart {\n",
              "    background-color: var(--bg-color);\n",
              "    border: none;\n",
              "    border-radius: 50%;\n",
              "    cursor: pointer;\n",
              "    display: none;\n",
              "    fill: var(--fill-color);\n",
              "    height: 32px;\n",
              "    padding: 0;\n",
              "    width: 32px;\n",
              "  }\n",
              "\n",
              "  .colab-df-quickchart:hover {\n",
              "    background-color: var(--hover-bg-color);\n",
              "    box-shadow: 0 1px 2px rgba(60, 64, 67, 0.3), 0 1px 3px 1px rgba(60, 64, 67, 0.15);\n",
              "    fill: var(--button-hover-fill-color);\n",
              "  }\n",
              "\n",
              "  .colab-df-quickchart-complete:disabled,\n",
              "  .colab-df-quickchart-complete:disabled:hover {\n",
              "    background-color: var(--disabled-bg-color);\n",
              "    fill: var(--disabled-fill-color);\n",
              "    box-shadow: none;\n",
              "  }\n",
              "\n",
              "  .colab-df-spinner {\n",
              "    border: 2px solid var(--fill-color);\n",
              "    border-color: transparent;\n",
              "    border-bottom-color: var(--fill-color);\n",
              "    animation:\n",
              "      spin 1s steps(1) infinite;\n",
              "  }\n",
              "\n",
              "  @keyframes spin {\n",
              "    0% {\n",
              "      border-color: transparent;\n",
              "      border-bottom-color: var(--fill-color);\n",
              "      border-left-color: var(--fill-color);\n",
              "    }\n",
              "    20% {\n",
              "      border-color: transparent;\n",
              "      border-left-color: var(--fill-color);\n",
              "      border-top-color: var(--fill-color);\n",
              "    }\n",
              "    30% {\n",
              "      border-color: transparent;\n",
              "      border-left-color: var(--fill-color);\n",
              "      border-top-color: var(--fill-color);\n",
              "      border-right-color: var(--fill-color);\n",
              "    }\n",
              "    40% {\n",
              "      border-color: transparent;\n",
              "      border-right-color: var(--fill-color);\n",
              "      border-top-color: var(--fill-color);\n",
              "    }\n",
              "    60% {\n",
              "      border-color: transparent;\n",
              "      border-right-color: var(--fill-color);\n",
              "    }\n",
              "    80% {\n",
              "      border-color: transparent;\n",
              "      border-right-color: var(--fill-color);\n",
              "      border-bottom-color: var(--fill-color);\n",
              "    }\n",
              "    90% {\n",
              "      border-color: transparent;\n",
              "      border-bottom-color: var(--fill-color);\n",
              "    }\n",
              "  }\n",
              "</style>\n",
              "\n",
              "  <script>\n",
              "    async function quickchart(key) {\n",
              "      const quickchartButtonEl =\n",
              "        document.querySelector('#' + key + ' button');\n",
              "      quickchartButtonEl.disabled = true;  // To prevent multiple clicks.\n",
              "      quickchartButtonEl.classList.add('colab-df-spinner');\n",
              "      try {\n",
              "        const charts = await google.colab.kernel.invokeFunction(\n",
              "            'suggestCharts', [key], {});\n",
              "      } catch (error) {\n",
              "        console.error('Error during call to suggestCharts:', error);\n",
              "      }\n",
              "      quickchartButtonEl.classList.remove('colab-df-spinner');\n",
              "      quickchartButtonEl.classList.add('colab-df-quickchart-complete');\n",
              "    }\n",
              "    (() => {\n",
              "      let quickchartButtonEl =\n",
              "        document.querySelector('#df-464dc4ac-0f5d-430b-99ed-0cf5839ba920 button');\n",
              "      quickchartButtonEl.style.display =\n",
              "        google.colab.kernel.accessAllowed ? 'block' : 'none';\n",
              "    })();\n",
              "  </script>\n",
              "</div>\n",
              "\n",
              "    </div>\n",
              "  </div>\n"
            ],
            "application/vnd.google.colaboratory.intrinsic+json": {
              "type": "dataframe",
              "variable_name": "df"
            }
          },
          "metadata": {},
          "execution_count": 4
        }
      ]
    },
    {
      "cell_type": "markdown",
      "source": [
        "# 1"
      ],
      "metadata": {
        "id": "r-QTnLcG62Hf"
      }
    },
    {
      "cell_type": "markdown",
      "source": [
        "Выбираем первую колличественную переменную для сравнения цены домов:\n",
        "\n",
        "**Размер участка (Lot Area)** в футах\n",
        "\n",
        "Земельный участок является важным фактором при определении стоимости недвижимости, особенно в районах с высокой плотностью населения."
      ],
      "metadata": {
        "id": "5QhyYEZtuIJz"
      }
    },
    {
      "cell_type": "markdown",
      "source": [
        "Посмотрим на характеристики переменной:"
      ],
      "metadata": {
        "id": "wkgmF1chu14q"
      }
    },
    {
      "cell_type": "code",
      "source": [
        "df['Lot Area'].describe()"
      ],
      "metadata": {
        "id": "iVc5hGVqcg8X",
        "colab": {
          "base_uri": "https://localhost:8080/",
          "height": 335
        },
        "outputId": "baeb9326-d50c-4d8d-9925-b415d6bb0d9b"
      },
      "execution_count": null,
      "outputs": [
        {
          "output_type": "execute_result",
          "data": {
            "text/plain": [
              "count      2930.000000\n",
              "mean      10147.921843\n",
              "std        7880.017759\n",
              "min        1300.000000\n",
              "25%        7440.250000\n",
              "50%        9436.500000\n",
              "75%       11555.250000\n",
              "max      215245.000000\n",
              "Name: Lot Area, dtype: float64"
            ],
            "text/html": [
              "<div>\n",
              "<style scoped>\n",
              "    .dataframe tbody tr th:only-of-type {\n",
              "        vertical-align: middle;\n",
              "    }\n",
              "\n",
              "    .dataframe tbody tr th {\n",
              "        vertical-align: top;\n",
              "    }\n",
              "\n",
              "    .dataframe thead th {\n",
              "        text-align: right;\n",
              "    }\n",
              "</style>\n",
              "<table border=\"1\" class=\"dataframe\">\n",
              "  <thead>\n",
              "    <tr style=\"text-align: right;\">\n",
              "      <th></th>\n",
              "      <th>Lot Area</th>\n",
              "    </tr>\n",
              "  </thead>\n",
              "  <tbody>\n",
              "    <tr>\n",
              "      <th>count</th>\n",
              "      <td>2930.000000</td>\n",
              "    </tr>\n",
              "    <tr>\n",
              "      <th>mean</th>\n",
              "      <td>10147.921843</td>\n",
              "    </tr>\n",
              "    <tr>\n",
              "      <th>std</th>\n",
              "      <td>7880.017759</td>\n",
              "    </tr>\n",
              "    <tr>\n",
              "      <th>min</th>\n",
              "      <td>1300.000000</td>\n",
              "    </tr>\n",
              "    <tr>\n",
              "      <th>25%</th>\n",
              "      <td>7440.250000</td>\n",
              "    </tr>\n",
              "    <tr>\n",
              "      <th>50%</th>\n",
              "      <td>9436.500000</td>\n",
              "    </tr>\n",
              "    <tr>\n",
              "      <th>75%</th>\n",
              "      <td>11555.250000</td>\n",
              "    </tr>\n",
              "    <tr>\n",
              "      <th>max</th>\n",
              "      <td>215245.000000</td>\n",
              "    </tr>\n",
              "  </tbody>\n",
              "</table>\n",
              "</div><br><label><b>dtype:</b> float64</label>"
            ]
          },
          "metadata": {},
          "execution_count": 5
        }
      ]
    },
    {
      "cell_type": "markdown",
      "source": [
        "Разделим данные о домах на две категории по медианному значению:\n",
        "- Дома с большим участком\n",
        "- Дома с маленьким участком"
      ],
      "metadata": {
        "id": "4OvH_eLzvCni"
      }
    },
    {
      "cell_type": "code",
      "source": [
        "big_area = df['SalePrice'][df['Lot Area'] >= df['Lot Area'].median()]\n",
        "small_area = df['SalePrice'][df['Lot Area'] < df['Lot Area'].median()]"
      ],
      "metadata": {
        "id": "nOdKyDrIcg6g"
      },
      "execution_count": null,
      "outputs": []
    },
    {
      "cell_type": "markdown",
      "source": [
        "Посмотрим на данные:"
      ],
      "metadata": {
        "id": "t572e06DvX2m"
      }
    },
    {
      "cell_type": "code",
      "source": [
        "plt.figure(figsize=(9, 4))\n",
        "\n",
        "# Первая гистограмма - Small Area\n",
        "plt.subplot(1, 2, 1)\n",
        "sns.histplot(small_area, color='red', bins=30)\n",
        "plt.title('Small Area')\n",
        "\n",
        "\n",
        "# Вторая гистограмма - Big Area\n",
        "plt.subplot(1, 2, 2)\n",
        "sns.histplot(big_area, color='blue', bins=30)\n",
        "plt.title('Big Area')\n",
        "\n",
        "plt.tight_layout()\n",
        "plt.show()"
      ],
      "metadata": {
        "colab": {
          "base_uri": "https://localhost:8080/",
          "height": 407
        },
        "id": "EFwzu2EownwJ",
        "outputId": "84971ccd-bcfe-4069-b8a8-754685fb01b1"
      },
      "execution_count": null,
      "outputs": [
        {
          "output_type": "display_data",
          "data": {
            "text/plain": [
              "<Figure size 900x400 with 2 Axes>"
            ],
            "image/png": "[encoded data removed]"
          },
          "metadata": {}
        }
      ]
    },
    {
      "cell_type": "markdown",
      "source": [
        "## Проверим нормальность\n",
        "\n",
        "У нас не очень много наблюдений (около 1500), поэтому проверим **критерием Шапиро-Уилка:**"
      ],
      "metadata": {
        "id": "V06PCY8Lj9kx"
      }
    },
    {
      "cell_type": "code",
      "source": [
        "res = stats.shapiro(big_area)\n",
        "print(f\"p-value: {res[1]:.18f}\")"
      ],
      "metadata": {
        "id": "XrqWLUo4cg05",
        "colab": {
          "base_uri": "https://localhost:8080/"
        },
        "outputId": "17135977-5e34-4a84-9c98-bea76e8f0dc1"
      },
      "execution_count": null,
      "outputs": [
        {
          "output_type": "stream",
          "name": "stdout",
          "text": [
            "p-value: 0.000000000000000000\n"
          ]
        }
      ]
    },
    {
      "cell_type": "code",
      "source": [
        "res = stats.shapiro(small_area)\n",
        "print(f\"p-value: {res[1]:.18f}\")"
      ],
      "metadata": {
        "colab": {
          "base_uri": "https://localhost:8080/"
        },
        "id": "yc68yJVUxsTH",
        "outputId": "61303cb1-2c6e-48ad-ee39-0df3370555fd"
      },
      "execution_count": null,
      "outputs": [
        {
          "output_type": "stream",
          "name": "stdout",
          "text": [
            "p-value: 0.000000000000000000\n"
          ]
        }
      ]
    },
    {
      "cell_type": "markdown",
      "source": [
        "Видно, что и в категории с большой площадью и с маленькой, цена домов не распределена нормально. Уровень p_value равен 0, что меньше допустимого критерия значимости 0.05. Гипотезу о нормальности можно отвергать.\n",
        "\n",
        "Из графиков визуально видно, что оба распрелеления скошены вправо с большим колличесвом выбосов в виде дорогих домов."
      ],
      "metadata": {
        "id": "Dd4-72FSxwbd"
      }
    },
    {
      "cell_type": "markdown",
      "source": [
        "## Сформулируем гипотезу\n",
        "\n",
        "Распределение обоих выборок существенно отличается от нормального, в качестве центра будем использовать медиану\n",
        "\n",
        "Сформулируем гипотезу:\n",
        "\n",
        "H0 : Медиана цены домов с большим участком равна медиане цены домов с маленьким участком\n",
        "\n",
        "Н1: Медианы не равны\n",
        "\n",
        "\n",
        "---\n",
        "\n",
        "\n",
        "Если центром распределения выбрана **медиана**, центры сравниваются с помощью критерия **Манна–Уитни** или критерия **Вилкоксона**.\n",
        "\n",
        "Так как наши выборки независимые, будем использовать критерий Манна-Уитни:"
      ],
      "metadata": {
        "id": "YherTL9Iy8NV"
      }
    },
    {
      "cell_type": "code",
      "source": [
        "res = stats.mannwhitneyu(big_area, small_area)\n",
        "print(f'p-value: {res[1]:.18f}')"
      ],
      "metadata": {
        "colab": {
          "base_uri": "https://localhost:8080/"
        },
        "id": "wAMmpHueyrXt",
        "outputId": "3f4ff761-35c8-4c6e-fa56-f19b4b3d76a7"
      },
      "execution_count": null,
      "outputs": [
        {
          "output_type": "stream",
          "name": "stdout",
          "text": [
            "p-value: 0.000000000000000000\n"
          ]
        }
      ]
    },
    {
      "cell_type": "markdown",
      "source": [
        "p-value получилось почти равным 0, поэтому у нас есть основания отвергнуть основную гипотезу Н0: разницы между медианами нет\n",
        "\n",
        "Вывод: Цены домов значимо различаются по велечине участка - разница медиан в выборках вызвана не случайными отклонениями.\n",
        "\n",
        "## Посмотрим на boxplot:"
      ],
      "metadata": {
        "id": "hp1UGL4n01a3"
      }
    },
    {
      "cell_type": "code",
      "source": [
        "boxplot_data = pd.DataFrame({\n",
        "    'SalePrice': pd.concat([big_area, small_area]),\n",
        "    'Group': ['Big Area'] * len(big_area) + ['Small Area'] * len(small_area)\n",
        "})\n",
        "\n",
        "# Построение ящика с усами\n",
        "plt.figure(figsize=(10, 6))\n",
        "sns.boxplot(x='Group', y='SalePrice', data=boxplot_data, palette='Set2')\n",
        "\n",
        "# Настройка графика\n",
        "plt.title('Распределение цены для участков разного размера', fontsize=14)\n",
        "plt.xlabel('Участки', fontsize=12)\n",
        "plt.ylabel('Цена продажи (SalePrice)', fontsize=12)\n",
        "\n",
        "plt.show()"
      ],
      "metadata": {
        "colab": {
          "base_uri": "https://localhost:8080/"
        },
        "id": "isBO8gGiyrUe",
        "outputId": "6443e113-be38-446d-de96-0612c7f47e18"
      },
      "execution_count": null,
      "outputs": [
        {
          "output_type": "stream",
          "name": "stderr",
          "text": [
            "<ipython-input-22-f0a02fcc791c>:8: FutureWarning: \n",
            "\n",
            "Passing `palette` without assigning `hue` is deprecated and will be removed in v0.14.0. Assign the `x` variable to `hue` and set `legend=False` for the same effect.\n",
            "\n",
            "  sns.boxplot(x='Group', y='SalePrice', data=boxplot_data, palette='Set2')\n"
          ]
        },
        {
          "output_type": "display_data",
          "data": {
            "text/plain": [
              "<Figure size 1000x600 with 1 Axes>"
            ],
            "image/png": "[encoded data removed]"
          },
          "metadata": {}
        }
      ]
    },
    {
      "cell_type": "markdown",
      "source": [
        "# 2"
      ],
      "metadata": {
        "id": "zI4EmtSQ6JSl"
      }
    },
    {
      "cell_type": "markdown",
      "source": [
        "Выбираем вторую колличественную переменную для разбиения данных на 2 категории.\n",
        "\n",
        "Будем использовать **Год постройки дома (Year Built)**\n",
        "\n",
        "Более новые дома, как правило, имеют современные планировки, материалы и системы, что увеличивает их стоимость.\n",
        "\n",
        "Ожидаем: Дома, построенные позже медианного года, вероятно, стоят дороже."
      ],
      "metadata": {
        "id": "j0cfj9gQ7D4G"
      }
    },
    {
      "cell_type": "code",
      "source": [
        "df['Year Built'].describe()"
      ],
      "metadata": {
        "colab": {
          "base_uri": "https://localhost:8080/",
          "height": 335
        },
        "id": "13J60TPJ7t-L",
        "outputId": "0aae4b25-ebad-42ee-abdc-d5391b86359c"
      },
      "execution_count": null,
      "outputs": [
        {
          "output_type": "execute_result",
          "data": {
            "text/plain": [
              "count    2930.000000\n",
              "mean     1971.356314\n",
              "std        30.245361\n",
              "min      1872.000000\n",
              "25%      1954.000000\n",
              "50%      1973.000000\n",
              "75%      2001.000000\n",
              "max      2010.000000\n",
              "Name: Year Built, dtype: float64"
            ],
            "text/html": [
              "<div>\n",
              "<style scoped>\n",
              "    .dataframe tbody tr th:only-of-type {\n",
              "        vertical-align: middle;\n",
              "    }\n",
              "\n",
              "    .dataframe tbody tr th {\n",
              "        vertical-align: top;\n",
              "    }\n",
              "\n",
              "    .dataframe thead th {\n",
              "        text-align: right;\n",
              "    }\n",
              "</style>\n",
              "<table border=\"1\" class=\"dataframe\">\n",
              "  <thead>\n",
              "    <tr style=\"text-align: right;\">\n",
              "      <th></th>\n",
              "      <th>Year Built</th>\n",
              "    </tr>\n",
              "  </thead>\n",
              "  <tbody>\n",
              "    <tr>\n",
              "      <th>count</th>\n",
              "      <td>2930.000000</td>\n",
              "    </tr>\n",
              "    <tr>\n",
              "      <th>mean</th>\n",
              "      <td>1971.356314</td>\n",
              "    </tr>\n",
              "    <tr>\n",
              "      <th>std</th>\n",
              "      <td>30.245361</td>\n",
              "    </tr>\n",
              "    <tr>\n",
              "      <th>min</th>\n",
              "      <td>1872.000000</td>\n",
              "    </tr>\n",
              "    <tr>\n",
              "      <th>25%</th>\n",
              "      <td>1954.000000</td>\n",
              "    </tr>\n",
              "    <tr>\n",
              "      <th>50%</th>\n",
              "      <td>1973.000000</td>\n",
              "    </tr>\n",
              "    <tr>\n",
              "      <th>75%</th>\n",
              "      <td>2001.000000</td>\n",
              "    </tr>\n",
              "    <tr>\n",
              "      <th>max</th>\n",
              "      <td>2010.000000</td>\n",
              "    </tr>\n",
              "  </tbody>\n",
              "</table>\n",
              "</div><br><label><b>dtype:</b> float64</label>"
            ]
          },
          "metadata": {},
          "execution_count": 12
        }
      ]
    },
    {
      "cell_type": "markdown",
      "source": [
        "Разделим данные о домах на две категории по медианному значению:\n",
        "- Новые дома\n",
        "- Старые дома"
      ],
      "metadata": {
        "id": "emMp_twX7hBP"
      }
    },
    {
      "cell_type": "code",
      "source": [
        "old = df['SalePrice'][df['Year Built'] >= df['Year Built'].median()]\n",
        "new = df['SalePrice'][df['Year Built'] < df['Year Built'].median()]"
      ],
      "metadata": {
        "id": "V5bQ6s_5yrSS"
      },
      "execution_count": null,
      "outputs": []
    },
    {
      "cell_type": "markdown",
      "source": [
        "Посмотрим на данные:"
      ],
      "metadata": {
        "id": "2iUoVKdJ8wja"
      }
    },
    {
      "cell_type": "code",
      "source": [
        "plt.figure(figsize=(11, 4))\n",
        "\n",
        "# Первая гистограмма - Small Area\n",
        "plt.subplot(1, 2, 1)\n",
        "sns.histplot(old, color='red', bins=30)\n",
        "plt.title('Old')\n",
        "\n",
        "\n",
        "# Вторая гистограмма - Big Area\n",
        "plt.subplot(1, 2, 2)\n",
        "sns.histplot(new, color='blue', bins=30)\n",
        "plt.title('New')\n",
        "\n",
        "plt.tight_layout()\n",
        "plt.show()"
      ],
      "metadata": {
        "colab": {
          "base_uri": "https://localhost:8080/",
          "height": 407
        },
        "id": "l5Rf_HtGyrP8",
        "outputId": "7bad8bca-f391-4b97-c98f-8297a89a5d2b"
      },
      "execution_count": null,
      "outputs": [
        {
          "output_type": "display_data",
          "data": {
            "text/plain": [
              "<Figure size 1100x400 with 2 Axes>"
            ],
            "image/png": "[encoded data removed]"
          },
          "metadata": {}
        }
      ]
    },
    {
      "cell_type": "markdown",
      "source": [
        "## Проверим нормальность:\n",
        "\n",
        "У нас не очень много наблюдений (около 1500), поэтому проверим **критерием Шапиро-Уилка**"
      ],
      "metadata": {
        "id": "Z0lNI8sO9f_6"
      }
    },
    {
      "cell_type": "code",
      "source": [
        "res = stats.shapiro(new)\n",
        "print(f\"p-value: {res[1]:.18f}\")"
      ],
      "metadata": {
        "colab": {
          "base_uri": "https://localhost:8080/"
        },
        "id": "9qTP94ljyrFt",
        "outputId": "a3b78f86-5847-4cb5-e287-f74102e9e58b"
      },
      "execution_count": null,
      "outputs": [
        {
          "output_type": "stream",
          "name": "stdout",
          "text": [
            "p-value: 0.000000000000000000\n"
          ]
        }
      ]
    },
    {
      "cell_type": "code",
      "source": [
        "res = stats.shapiro(old)\n",
        "print(f\"p-value: {res[1]:.18f}\")"
      ],
      "metadata": {
        "colab": {
          "base_uri": "https://localhost:8080/"
        },
        "id": "8cBa53AB9tLR",
        "outputId": "911136bd-15a6-41f2-b3a4-290dc2cfbe44"
      },
      "execution_count": null,
      "outputs": [
        {
          "output_type": "stream",
          "name": "stdout",
          "text": [
            "p-value: 0.000000000000000000\n"
          ]
        }
      ]
    },
    {
      "cell_type": "markdown",
      "source": [
        "Видно, что в обоих категориях, цена домов не распределена нормально. Уровень p_value равен 0, что меньше допустимого критерия значимости 0.05. **Гипотезу о нормальности можно отвергать.**\n",
        "\n",
        "Из графиков визуально видно, что оба распрелеления скошены вправо с большим колличесвом выбосов в виде дорогих домов."
      ],
      "metadata": {
        "id": "FHutAyINypXP"
      }
    },
    {
      "cell_type": "markdown",
      "source": [
        "## Сформулируем гипотезу\n",
        "\n",
        "Распределение обоих выборок существенно отличается от нормального, в качестве центра будем использовать **медиану**\n",
        "\n",
        "**Сформулируем гипотезу:**\n",
        "\n",
        "H0 : Медиана цены старых домов равна медиане цены новых домов\n",
        "\n",
        "Н1: Медианы не равны\n",
        "\n",
        "\n",
        "---\n",
        "\n",
        "\n",
        "Если центром распределения выбрана **медиана**, центры сравниваются с помощью критерия Манна–Уитни или критерия Вилкоксона.\n",
        "\n",
        "Так как наши выборки независимые, будем использовать **критерий Манна-Уитни**:"
      ],
      "metadata": {
        "id": "Y4XQy83W-NyQ"
      }
    },
    {
      "cell_type": "code",
      "source": [
        "res = stats.mannwhitneyu(old, new)\n",
        "print(f'p-value: {res[1]:.18f}')"
      ],
      "metadata": {
        "id": "Wni1zAqscgw0",
        "colab": {
          "base_uri": "https://localhost:8080/"
        },
        "outputId": "5ab0034d-8cd7-44c8-a4ae-c196163fdaec"
      },
      "execution_count": null,
      "outputs": [
        {
          "output_type": "stream",
          "name": "stdout",
          "text": [
            "p-value: 0.000000000000000000\n"
          ]
        }
      ]
    },
    {
      "cell_type": "markdown",
      "source": [
        "p-value получилось почти равным 0, поэтому у нас **есть основания отвергнуть основную гипотезу Н0**: разницы между медианами нет\n",
        "\n",
        "Вывод: Цены домов **значимо различаются** по году постойки - разница медиан в выборках вызвана не случайными отклонениями.\n",
        "\n",
        "## Посмотрим на boxplot:"
      ],
      "metadata": {
        "id": "ML8LHYzy-gmM"
      }
    },
    {
      "cell_type": "code",
      "source": [
        "# Создаем DataFrame для удобства визуализации\n",
        "boxplot_data = pd.DataFrame({\n",
        "    'SalePrice': pd.concat([new, old]),\n",
        "    'Group': ['New'] * len(new) + ['Old'] * len(old)\n",
        "})\n",
        "\n",
        "# Построение ящика с усами\n",
        "plt.figure(figsize=(10, 6))\n",
        "sns.boxplot(x='Group', y='SalePrice', data=boxplot_data, palette='Set2')\n",
        "\n",
        "# Настройка графика\n",
        "plt.title('Распределение SalePrice для домов разного возраста', fontsize=14)\n",
        "plt.xlabel('Группы', fontsize=12)\n",
        "plt.ylabel('Цена продажи (SalePrice)', fontsize=12)\n",
        "plt.show()"
      ],
      "metadata": {
        "id": "4tzaP0Wocgu-",
        "colab": {
          "base_uri": "https://localhost:8080/",
          "height": 656
        },
        "outputId": "a5937af7-4d5b-4dd1-d1ae-47af2534a5ed"
      },
      "execution_count": null,
      "outputs": [
        {
          "output_type": "stream",
          "name": "stderr",
          "text": [
            "<ipython-input-19-87403feeb2e3>:9: FutureWarning: \n",
            "\n",
            "Passing `palette` without assigning `hue` is deprecated and will be removed in v0.14.0. Assign the `x` variable to `hue` and set `legend=False` for the same effect.\n",
            "\n",
            "  sns.boxplot(x='Group', y='SalePrice', data=boxplot_data, palette='Set2')\n"
          ]
        },
        {
          "output_type": "display_data",
          "data": {
            "text/plain": [
              "<Figure size 1000x600 with 1 Axes>"
            ],
            "image/png": "[encoded data removed]"
          },
          "metadata": {}
        }
      ]
    }
  ]
}