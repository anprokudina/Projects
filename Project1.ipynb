{
  "nbformat": 4,
  "nbformat_minor": 0,
  "metadata": {
    "colab": {
      "provenance": []
    },
    "kernelspec": {
      "name": "python3",
      "display_name": "Python 3"
    },
    "language_info": {
      "name": "python"
    }
  },
  "cells": [
    {
      "cell_type": "code",
      "execution_count": 1,
      "metadata": {
        "colab": {
          "base_uri": "https://localhost:8080/"
        },
        "id": "0K2hNwpLMy5-",
        "outputId": "56e18080-2a97-4832-a13a-41030f7124ec"
      },
      "outputs": [
        {
          "output_type": "execute_result",
          "data": {
            "text/plain": [
              "45"
            ]
          },
          "metadata": {},
          "execution_count": 1
        }
      ],
      "source": [
        "5 * 3 **2"
      ]
    },
    {
      "cell_type": "code",
      "source": [
        "ls = []"
      ],
      "metadata": {
        "id": "dvMo1QFdOiv8"
      },
      "execution_count": 4,
      "outputs": []
    },
    {
      "cell_type": "code",
      "source": [
        "def a(item, ls = None):\n",
        "  if ls is None:\n",
        "    ls = []\n",
        "  ls.append(item)\n",
        "  return ls\n",
        "\n",
        "print(a(1))\n",
        "print(a(2))"
      ],
      "metadata": {
        "colab": {
          "base_uri": "https://localhost:8080/"
        },
        "id": "piIlEaCJbg80",
        "outputId": "96bd4e6e-0619-4465-e79e-28f99ddbb5df"
      },
      "execution_count": 11,
      "outputs": [
        {
          "output_type": "stream",
          "name": "stdout",
          "text": [
            "[1]\n",
            "[2]\n"
          ]
        }
      ]
    }
  ]
}